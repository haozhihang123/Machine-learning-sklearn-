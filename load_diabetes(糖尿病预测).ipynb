{
 "cells": [
  {
   "cell_type": "code",
   "execution_count": 1,
   "metadata": {
    "collapsed": true
   },
   "outputs": [],
   "source": [
    "from sklearn import datasets,metrics"
   ]
  },
  {
   "cell_type": "code",
   "execution_count": 2,
   "metadata": {},
   "outputs": [
    {
     "name": "stdout",
     "output_type": "stream",
     "text": [
      "dict_keys(['data', 'target', 'DESCR', 'feature_names'])\n",
      "(442, 10) (442,)\n",
      "['age', 'sex', 'bmi', 'bp', 's1', 's2', 's3', 's4', 's5', 's6']\n",
      "[ 0.03807591  0.05068012  0.06169621  0.02187235 -0.0442235  -0.03482076\n",
      " -0.04340085 -0.00259226  0.01990842 -0.01764613]\n",
      "[ 151.   75.  141.  206.  135.   97.  138.   63.  110.  310.]\n"
     ]
    }
   ],
   "source": [
    "# 观察数据结构\n",
    "diabetes = datasets.load_diabetes()\n",
    "print(diabetes.keys())\n",
    "print(diabetes.data.shape,diabetes.target.shape)\n",
    "print(diabetes.feature_names)\n",
    "print(diabetes.data[0])\n",
    "print(diabetes.target[:10])"
   ]
  },
  {
   "cell_type": "code",
   "execution_count": 7,
   "metadata": {},
   "outputs": [
    {
     "name": "stdout",
     "output_type": "stream",
     "text": [
      "(422, 10) (422,)\n",
      "(20, 10) (20,)\n"
     ]
    }
   ],
   "source": [
    "# 划分数据集--未进行标准化\n",
    "# from sklearn.model_selection import train_test_split\n",
    "# x_train,x_test,y_train,y_test = train_test_split(diabetes.data,diabetes.target,random_state=0,test_size=0.25)\n",
    "x_train=diabetes.data[:-20]  \n",
    "y_train=diabetes.target[:-20]  \n",
    "x_test=diabetes.data[-20:]  \n",
    "y_test=diabetes.target[-20:] \n",
    "print(x_train.shape,y_train.shape)\n",
    "print(x_test.shape,y_test.shape)"
   ]
  },
  {
   "cell_type": "markdown",
   "metadata": {},
   "source": [
    "### knn 算法做回归项目"
   ]
  },
  {
   "cell_type": "code",
   "execution_count": 8,
   "metadata": {},
   "outputs": [
    {
     "name": "stdout",
     "output_type": "stream",
     "text": [
      "训练集精度： 0.60298851084\n",
      "测试集精度： 0.372150787803\n"
     ]
    }
   ],
   "source": [
    "# 导入库\n",
    "from sklearn.neighbors import KNeighborsRegressor\n",
    "# 实例化模型\n",
    "knn = KNeighborsRegressor()\n",
    "knn.fit(x_train,y_train)\n",
    "print(\"训练集精度：\",knn.score(x_train,y_train))\n",
    "print(\"测试集精度：\",knn.score(x_test,y_test))"
   ]
  },
  {
   "cell_type": "code",
   "execution_count": 9,
   "metadata": {},
   "outputs": [
    {
     "name": "stdout",
     "output_type": "stream",
     "text": [
      "训练集精度： 0.603002055051\n",
      "测试集精度： 0.489064318122\n"
     ]
    }
   ],
   "source": [
    "# 标准化\n",
    "from sklearn.preprocessing import StandardScaler\n",
    "std_x = StandardScaler()\n",
    "std_x_train = std_x.fit_transform(x_train)\n",
    "std_x_test = std_x.fit_transform(x_test)\n",
    "std_y = StandardScaler()\n",
    "std_y_train = std_y.fit_transform(y_train.reshape(-1,1)).reshape(1,-1)[0]\n",
    "std_y_test = std_y.fit_transform(y_test.reshape(-1,1)).reshape(1,-1)[0]\n",
    "knn = KNeighborsRegressor()\n",
    "knn.fit(std_x_train,std_y_train)\n",
    "print(\"训练集精度：\",knn.score(std_x_train,std_y_train))\n",
    "print(\"测试集精度：\",knn.score(std_x_test,std_y_test))"
   ]
  },
  {
   "cell_type": "markdown",
   "metadata": {},
   "source": [
    "### 线性回归模型"
   ]
  },
  {
   "cell_type": "code",
   "execution_count": 6,
   "metadata": {},
   "outputs": [
    {
     "name": "stdout",
     "output_type": "stream",
     "text": [
      "训练集精度： 0.512226214779\n",
      "测试集精度： 0.585075302269\n"
     ]
    }
   ],
   "source": [
    "# 导入库\n",
    "from sklearn.linear_model import LinearRegression\n",
    "# 模型实例化------标准化之前\n",
    "lr = LinearRegression()\n",
    "lr.fit(x_train,y_train)\n",
    "print(\"训练集精度：\",lr.score(x_train,y_train))\n",
    "print(\"测试集精度：\",lr.score(x_test,y_test))"
   ]
  },
  {
   "cell_type": "code",
   "execution_count": 7,
   "metadata": {},
   "outputs": [
    {
     "name": "stdout",
     "output_type": "stream",
     "text": [
      "训练集精度： 0.512226214779\n",
      "训练集精度： 0.636028197417\n"
     ]
    }
   ],
   "source": [
    "# 标准化之后\n",
    "lr_1 = LinearRegression()\n",
    "lr_1.fit(std_x_train,std_y_train)\n",
    "print(\"训练集精度：\",lr_1.score(std_x_train,std_y_train))\n",
    "print(\"训练集精度：\",lr_1.score(std_x_test,std_y_test))"
   ]
  },
  {
   "cell_type": "markdown",
   "metadata": {},
   "source": [
    "### 决策树"
   ]
  },
  {
   "cell_type": "code",
   "execution_count": 9,
   "metadata": {},
   "outputs": [
    {
     "name": "stdout",
     "output_type": "stream",
     "text": [
      "训练集精度： 0.566672953371\n",
      "训练集精度： 0.616053279204\n",
      "DecisionTreeRegressor(criterion='mse', max_depth=4, max_features=None,\n",
      "           max_leaf_nodes=None, min_impurity_decrease=0.0,\n",
      "           min_impurity_split=None, min_samples_leaf=5,\n",
      "           min_samples_split=2, min_weight_fraction_leaf=0.0,\n",
      "           presort=False, random_state=None, splitter='best')\n"
     ]
    }
   ],
   "source": [
    "from sklearn.tree import DecisionTreeRegressor\n",
    "dt = DecisionTreeRegressor(max_depth=4,min_samples_leaf=5)\n",
    "dt.fit(std_x_train,std_y_train)\n",
    "print(\"训练集精度：\",dt.score(std_x_train,std_y_train))\n",
    "print(\"训练集精度：\",dt.score(std_x_test,std_y_test))\n",
    "print(dt)"
   ]
  },
  {
   "cell_type": "code",
   "execution_count": 12,
   "metadata": {},
   "outputs": [
    {
     "data": {
      "text/plain": [
       "True"
      ]
     },
     "execution_count": 12,
     "metadata": {},
     "output_type": "execute_result"
    }
   ],
   "source": [
    "# 绘制决策树\n",
    "from sklearn.tree import export_graphviz\n",
    "from sklearn.externals.six import StringIO\n",
    "import pydotplus\n",
    "from io import StringIO\n",
    "dot_data = StringIO()\n",
    "export_graphviz(dt, out_file=dot_data,  # 绘制决策树\n",
    "    feature_names=diabetes.feature_names,\n",
    "    class_names=diabetes.target,\n",
    "    filled=True, rounded=True,\n",
    "    special_characters=True)\n",
    "graph = pydotplus.graph_from_dot_data(dot_data.getvalue())\n",
    "graph.write_pdf(\"diabetes.pdf\")"
   ]
  },
  {
   "cell_type": "markdown",
   "metadata": {},
   "source": [
    "### 随机森林"
   ]
  },
  {
   "cell_type": "code",
   "execution_count": 86,
   "metadata": {},
   "outputs": [
    {
     "name": "stdout",
     "output_type": "stream",
     "text": [
      "训练集精度： 0.625720392671\n",
      "训练集精度： 0.540244373945\n",
      "RandomForestRegressor(bootstrap=True, criterion='mse', max_depth=5,\n",
      "           max_features='auto', max_leaf_nodes=None,\n",
      "           min_impurity_decrease=0.0, min_impurity_split=None,\n",
      "           min_samples_leaf=10, min_samples_split=2,\n",
      "           min_weight_fraction_leaf=0.0, n_estimators=100, n_jobs=1,\n",
      "           oob_score=False, random_state=None, verbose=0, warm_start=False)\n"
     ]
    }
   ],
   "source": [
    "from sklearn.ensemble import RandomForestRegressor\n",
    "rand_forest = RandomForestRegressor(max_depth=5,min_samples_leaf=10,n_estimators=100)\n",
    "rand_forest.fit(std_x_train,std_y_train)\n",
    "print(\"训练集精度：\",rand_forest.score(std_x_train,std_y_train))\n",
    "print(\"训练集精度：\",rand_forest.score(std_x_test,std_y_test))\n",
    "print(rand_forest)"
   ]
  },
  {
   "cell_type": "markdown",
   "metadata": {},
   "source": [
    "### SVM"
   ]
  },
  {
   "cell_type": "code",
   "execution_count": 32,
   "metadata": {},
   "outputs": [
    {
     "name": "stdout",
     "output_type": "stream",
     "text": [
      "SVR(C=10.0, cache_size=200, coef0=0.0, degree=3, epsilon=0.1, gamma=0.01,\n",
      "  kernel='rbf', max_iter=-1, shrinking=True, tol=0.001, verbose=False)\n",
      "训练集精度： 0.561061800021\n",
      "测试集精度： 0.688152975006\n"
     ]
    }
   ],
   "source": [
    "from sklearn.svm import SVR\n",
    "svm = SVR(C=10.0,gamma=0.01)\n",
    "svm.fit(std_x_train,std_y_train)\n",
    "print(svm)\n",
    "print(\"训练集精度：\",svm.score(std_x_train,std_y_train))\n",
    "print(\"测试集精度：\",svm.score(std_x_test,std_y_test))"
   ]
  },
  {
   "cell_type": "markdown",
   "metadata": {},
   "source": [
    "### sklern中的神经网络模型"
   ]
  },
  {
   "cell_type": "code",
   "execution_count": 212,
   "metadata": {},
   "outputs": [
    {
     "name": "stdout",
     "output_type": "stream",
     "text": [
      "[ 180.81880633   78.13340229  163.29426302  156.0191971   130.93227209\n",
      "   85.46026252   92.86741182  147.45201738  156.73911394  176.83547056]\n",
      "[ 151.   75.  141.  206.  135.   97.  138.   63.  110.  310.]\n",
      "训练集精度： 0.463526188673\n",
      "训练集精度： 0.46535591292\n",
      "MLPRegressor(activation='relu', alpha=0.0001, batch_size='auto', beta_1=0.9,\n",
      "       beta_2=0.999, early_stopping=False, epsilon=1e-08,\n",
      "       hidden_layer_sizes=(100, 30, 100), learning_rate='constant',\n",
      "       learning_rate_init=0.001, max_iter=200, momentum=0.9,\n",
      "       nesterovs_momentum=True, power_t=0.5, random_state=None,\n",
      "       shuffle=True, solver='adam', tol=0.0001, validation_fraction=0.1,\n",
      "       verbose=False, warm_start=False)\n"
     ]
    }
   ],
   "source": [
    "from sklearn.neural_network import MLPRegressor\n",
    "net = MLPRegressor(hidden_layer_sizes=(100,30,100))\n",
    "net.fit(x_train,y_train)\n",
    "print(net.predict(x_train)[:10])\n",
    "print(y_train[:10])\n",
    "print(\"训练集精度：\",net.score(x_train,y_train))\n",
    "print(\"训练集精度：\",net.score(x_test,y_test))\n",
    "print(net)"
   ]
  },
  {
   "cell_type": "markdown",
   "metadata": {},
   "source": [
    "### 网上历程"
   ]
  },
  {
   "cell_type": "code",
   "execution_count": 176,
   "metadata": {},
   "outputs": [
    {
     "name": "stdout",
     "output_type": "stream",
     "text": [
      "训练集精度 0.512226214779\n",
      "测试集精度： 0.585075302269\n"
     ]
    }
   ],
   "source": [
    "import numpy as np  \n",
    "from sklearn import datasets  \n",
    "diabetes=datasets.load_diabetes() \n",
    "x_train=diabetes.data[:-20]  \n",
    "y_train=diabetes.target[:-20]  \n",
    "x_test=diabetes.data[-20:]  \n",
    "y_test=diabetes.target[-20:]  \n",
    "from sklearn import linear_model  \n",
    "linreg=linear_model.LinearRegression()   #创建线性回归  \n",
    "linreg.fit( x_train,y_train)  \n",
    "linreg.predict( x_test )  \n",
    "print(\"训练集精度\",linreg.score( x_train,y_train))  \n",
    "print(\"测试集精度：\",linreg.score( x_test,y_test))"
   ]
  },
  {
   "cell_type": "markdown",
   "metadata": {},
   "source": [
    "### pytorch神经网络"
   ]
  },
  {
   "cell_type": "code",
   "execution_count": 35,
   "metadata": {
    "collapsed": true
   },
   "outputs": [],
   "source": [
    "import torch\n",
    "from torch import nn\n",
    "from torch.autograd import Variable"
   ]
  },
  {
   "cell_type": "code",
   "execution_count": 90,
   "metadata": {},
   "outputs": [
    {
     "name": "stdout",
     "output_type": "stream",
     "text": [
      "Sequential(\n",
      "  (0): Linear(in_features=10, out_features=100, bias=True)\n",
      "  (1): ReLU()\n",
      "  (2): Linear(in_features=100, out_features=60, bias=True)\n",
      "  (3): ReLU()\n",
      "  (4): Linear(in_features=60, out_features=1, bias=True)\n",
      ")\n",
      "[[ 0.03807591  0.05068012  0.06169621  0.02187235 -0.0442235  -0.03482076\n",
      "  -0.04340085 -0.00259226  0.01990842 -0.01764613]\n",
      " [-0.00188202 -0.04464164 -0.05147406 -0.02632783 -0.00844872 -0.01916334\n",
      "   0.07441156 -0.03949338 -0.06832974 -0.09220405]\n",
      " [ 0.08529891  0.05068012  0.04445121 -0.00567061 -0.04559945 -0.03419447\n",
      "  -0.03235593 -0.00259226  0.00286377 -0.02593034]\n",
      " [-0.08906294 -0.04464164 -0.01159501 -0.03665645  0.01219057  0.02499059\n",
      "  -0.03603757  0.03430886  0.02269202 -0.00936191]\n",
      " [ 0.00538306 -0.04464164 -0.03638469  0.02187235  0.00393485  0.01559614\n",
      "   0.00814208 -0.00259226 -0.03199144 -0.04664087]\n",
      " [-0.09269548 -0.04464164 -0.04069594 -0.01944209 -0.06899065 -0.07928784\n",
      "   0.04127682 -0.0763945  -0.04118039 -0.09634616]\n",
      " [-0.04547248  0.05068012 -0.04716281 -0.01599922 -0.04009564 -0.02480001\n",
      "   0.00077881 -0.03949338 -0.06291295 -0.03835666]\n",
      " [ 0.06350368  0.05068012 -0.00189471  0.06662967  0.09061988  0.10891438\n",
      "   0.02286863  0.01770335 -0.03581673  0.00306441]\n",
      " [ 0.04170844  0.05068012  0.06169621 -0.04009932 -0.01395254  0.00620169\n",
      "  -0.02867429 -0.00259226 -0.01495648  0.01134862]\n",
      " [-0.07090025 -0.04464164  0.03906215 -0.03321358 -0.01257658 -0.03450761\n",
      "  -0.02499266 -0.00259226  0.06773633 -0.01350402]]\n"
     ]
    }
   ],
   "source": [
    "# 使用 Sequential 定义 3 层神经网络\n",
    "net = nn.Sequential(\n",
    "    nn.Linear(10,100),\n",
    "    nn.ReLU(),\n",
    "    nn.Linear(100,60),\n",
    "    nn.ReLU(),\n",
    "    nn.Linear(60,1)\n",
    ")\n",
    "print(net)\n",
    "criteriton = nn.MSELoss()\n",
    "optimizer = torch.optim.SGD(net.parameters(),lr=0.001)\n",
    "print(x_train[:10])\n",
    "x_train=diabetes.data[:-20]  \n",
    "y_train=diabetes.target[:-20]  \n",
    "x_test=diabetes.data[-20:]  \n",
    "y_test=diabetes.target[-20:] "
   ]
  },
  {
   "cell_type": "code",
   "execution_count": 93,
   "metadata": {
    "scrolled": true
   },
   "outputs": [
    {
     "name": "stderr",
     "output_type": "stream",
     "text": [
      "D:\\anaconda\\lib\\site-packages\\torch\\nn\\modules\\loss.py:431: UserWarning: Using a target size (torch.Size([422])) that is different to the input size (torch.Size([422, 1])). This will likely lead to incorrect results due to broadcasting. Please ensure they have the same size.\n",
      "  return F.mse_loss(input, target, reduction=self.reduction)\n"
     ]
    },
    {
     "name": "stdout",
     "output_type": "stream",
     "text": [
      "tensor(5948.5723, grad_fn=<MseLossBackward>)\n",
      "tensor(5948.5723, grad_fn=<MseLossBackward>)\n",
      "tensor(5948.5723, grad_fn=<MseLossBackward>)\n",
      "tensor(5948.5723, grad_fn=<MseLossBackward>)\n",
      "tensor(5948.5723, grad_fn=<MseLossBackward>)\n",
      "tensor(5948.5723, grad_fn=<MseLossBackward>)\n",
      "tensor(5948.5723, grad_fn=<MseLossBackward>)\n",
      "tensor(5948.5723, grad_fn=<MseLossBackward>)\n",
      "tensor(5948.5723, grad_fn=<MseLossBackward>)\n",
      "tensor(5948.5723, grad_fn=<MseLossBackward>)\n",
      "tensor(5948.5723, grad_fn=<MseLossBackward>)\n"
     ]
    }
   ],
   "source": [
    "out = net(Variable(torch.from_numpy(x_train)).float())\n",
    "loss = criterion(out, torch.from_numpy(y_train).float())\n",
    "print(loss)\n",
    "optimizer.zero_grad()\n",
    "loss.backward()\n",
    "optimizer.step()\n",
    "# out = net(Variable(torch.from_numpy(x_train)).float())\n",
    "# loss = criterion(out, torch.from_numpy(y_train).float())\n",
    "for i in range(1000):\n",
    "    out = net(Variable(torch.from_numpy(x_train)).float())\n",
    "    loss = criterion(out, torch.from_numpy(y_train).float())\n",
    "    if i %100 ==0:\n",
    "        print(loss)\n",
    "    optimizer.zero_grad()\n",
    "    loss.backward()\n",
    "    optimizer.step()\n"
   ]
  },
  {
   "cell_type": "code",
   "execution_count": 86,
   "metadata": {},
   "outputs": [
    {
     "name": "stdout",
     "output_type": "stream",
     "text": [
      "tensor([[153.4803],\n",
      "        [153.2645],\n",
      "        [153.4507],\n",
      "        [153.2097],\n",
      "        [153.2892],\n",
      "        [153.3107],\n",
      "        [153.2753],\n",
      "        [153.3509],\n",
      "        [153.4042],\n",
      "        [153.3828]], grad_fn=<SliceBackward>)\n",
      "[ 151.   75.  141.  206.  135.   97.  138.   63.  110.  310.]\n"
     ]
    }
   ],
   "source": [
    "# out = net(Variable(torch.from_numpy(x_train)).float())\n",
    "# print(out[:10])\n",
    "# print(y_train[:10])"
   ]
  },
  {
   "cell_type": "code",
   "execution_count": null,
   "metadata": {
    "collapsed": true
   },
   "outputs": [],
   "source": []
  }
 ],
 "metadata": {
  "kernelspec": {
   "display_name": "Python 3",
   "language": "python",
   "name": "python3"
  },
  "language_info": {
   "codemirror_mode": {
    "name": "ipython",
    "version": 3
   },
   "file_extension": ".py",
   "mimetype": "text/x-python",
   "name": "python",
   "nbconvert_exporter": "python",
   "pygments_lexer": "ipython3",
   "version": "3.6.3"
  }
 },
 "nbformat": 4,
 "nbformat_minor": 2
}
