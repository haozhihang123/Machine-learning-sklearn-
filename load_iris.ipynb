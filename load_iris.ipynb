{
 "cells": [
  {
   "cell_type": "markdown",
   "metadata": {},
   "source": [
    "### sklearn库之iris-------三分类问题"
   ]
  },
  {
   "cell_type": "code",
   "execution_count": 45,
   "metadata": {},
   "outputs": [
    {
     "name": "stdout",
     "output_type": "stream",
     "text": [
      "iris.keys(): \n",
      "dict_keys(['data', 'target', 'target_names', 'DESCR', 'feature_names'])\n",
      "Shape of iris data: (150, 4)\n",
      "Shape of iris data: (150,)\n",
      "[ 5.1  3.5  1.4  0.2]\n",
      "0\n",
      "[0 0 0 0 0 0 0 0 0 0 0 0 0 0 0 0 0 0 0 0 0 0 0 0 0 0 0 0 0 0 0 0 0 0 0 0 0\n",
      " 0 0 0 0 0 0 0 0 0 0 0 0 0 1 1 1 1 1 1 1 1 1 1 1 1 1 1 1 1 1 1 1 1 1 1 1 1\n",
      " 1 1 1 1 1 1 1 1 1 1 1 1 1 1 1 1 1 1 1 1 1 1 1 1 1 1 2 2 2 2 2 2 2 2 2 2 2\n",
      " 2 2 2 2 2 2 2 2 2 2 2 2 2 2 2 2 2 2 2 2 2 2 2 2 2 2 2 2 2 2 2 2 2 2 2 2 2\n",
      " 2 2]\n"
     ]
    }
   ],
   "source": [
    "# 数据加载\n",
    "from sklearn.datasets import load_iris\n",
    "import seaborn as sb\n",
    "iris = load_iris()\n",
    "print(\"iris.keys(): \\n{}\".format(iris.keys()))\n",
    "print(\"Shape of iris data: {}\".format(iris.data.shape))\n",
    "print(\"Shape of iris data: {}\".format(iris.target.shape))\n",
    "print(iris.data[0])\n",
    "print(iris.target[0])\n",
    "print(iris.target)"
   ]
  },
  {
   "cell_type": "code",
   "execution_count": 46,
   "metadata": {},
   "outputs": [
    {
     "name": "stdout",
     "output_type": "stream",
     "text": [
      "(112, 4)\n",
      "(112,)\n",
      "(38, 4)\n",
      "(38,)\n"
     ]
    }
   ],
   "source": [
    "# 模型加载\n",
    "from sklearn.neighbors import KNeighborsClassifier\n",
    "# 数据预处理\n",
    "from sklearn.model_selection import train_test_split\n",
    "X_train, X_test, y_train, y_test = train_test_split(iris.data, iris.target, random_state=0)\n",
    "print(X_train.shape)\n",
    "print(y_train.shape)\n",
    "print(X_test.shape)\n",
    "print(y_test.shape)"
   ]
  },
  {
   "cell_type": "markdown",
   "metadata": {},
   "source": [
    "### PCA主成分分析"
   ]
  },
  {
   "cell_type": "code",
   "execution_count": 60,
   "metadata": {},
   "outputs": [
    {
     "name": "stdout",
     "output_type": "stream",
     "text": [
      "[ 0.92461621  0.05301557]\n",
      "(150, 2)\n",
      "(150,)\n",
      "(112, 2) (112,)\n",
      "训练集精度： 0.973214285714\n",
      "测试集精度： 0.973684210526\n"
     ]
    }
   ],
   "source": [
    "from sklearn.decomposition import PCA\n",
    "pca = PCA(n_components=2)\n",
    "pca.fit(iris.data)\n",
    "print (pca.explained_variance_ratio_)\n",
    "X_new = pca.transform(iris.data)\n",
    "print(X_new.shape)\n",
    "print(iris.target.shape)\n",
    "x_train,x_test,y_train,y_test = train_test_split(X_new,iris.target,test_size=0.25,random_state=0)\n",
    "print(x_train.shape,y_train.shape)\n",
    "knn_0 = KNeighborsClassifier()\n",
    "knn_0.fit(x_train,y_train)\n",
    "print(\"训练集精度：\",knn_0.score(x_train,y_train))\n",
    "print(\"测试集精度：\",knn_0.score(x_test,y_test))"
   ]
  },
  {
   "cell_type": "code",
   "execution_count": 3,
   "metadata": {},
   "outputs": [
    {
     "name": "stdout",
     "output_type": "stream",
     "text": [
      "KNeighborsClassifier(algorithm='auto', leaf_size=30, metric='minkowski',\n",
      "           metric_params=None, n_jobs=1, n_neighbors=5, p=2,\n",
      "           weights='uniform')\n",
      "0.973214285714\n",
      "0.973684210526\n"
     ]
    }
   ],
   "source": [
    "knn = KNeighborsClassifier()\n",
    "print(knn)\n",
    "knn.fit(X_train,y_train)\n",
    "# 输出训练集和测试机的预测结果\n",
    "print(knn.score(X_train,y_train))\n",
    "print(knn.score(X_test,y_test))"
   ]
  },
  {
   "cell_type": "markdown",
   "metadata": {},
   "source": [
    "### 用sklearn中的神经网络框架再写"
   ]
  },
  {
   "cell_type": "code",
   "execution_count": 4,
   "metadata": {
    "collapsed": true
   },
   "outputs": [],
   "source": [
    "from sklearn.neural_network import MLPClassifier"
   ]
  },
  {
   "cell_type": "code",
   "execution_count": 5,
   "metadata": {},
   "outputs": [
    {
     "name": "stdout",
     "output_type": "stream",
     "text": [
      "(112, 4)\n",
      "(112,)\n",
      "(38, 4)\n",
      "(38,)\n"
     ]
    }
   ],
   "source": [
    "from sklearn.model_selection import train_test_split\n",
    "X_train, X_test, y_train, y_test = train_test_split(iris.data, iris.target, random_state=0)\n",
    "print(X_train.shape)\n",
    "print(y_train.shape)\n",
    "print(X_test.shape)\n",
    "print(y_test.shape)"
   ]
  },
  {
   "cell_type": "code",
   "execution_count": 6,
   "metadata": {},
   "outputs": [
    {
     "name": "stdout",
     "output_type": "stream",
     "text": [
      "0.991071428571\n",
      "0.973684210526\n",
      "5\n"
     ]
    },
    {
     "name": "stderr",
     "output_type": "stream",
     "text": [
      "D:\\anaconda\\lib\\site-packages\\sklearn\\neural_network\\multilayer_perceptron.py:564: ConvergenceWarning: Stochastic Optimizer: Maximum iterations (200) reached and the optimization hasn't converged yet.\n",
      "  % self.max_iter, ConvergenceWarning)\n"
     ]
    }
   ],
   "source": [
    "net = MLPClassifier(hidden_layer_sizes=(100,20,90))\n",
    "net.fit(X_train,y_train)\n",
    "print(net.score(X_train,y_train))\n",
    "print(net.score(X_test,y_test))\n",
    "print(net.n_layers_)"
   ]
  },
  {
   "cell_type": "markdown",
   "metadata": {},
   "source": [
    "### 利用pytorch编写神经网络解决iris数据分类问题"
   ]
  },
  {
   "cell_type": "code",
   "execution_count": 7,
   "metadata": {},
   "outputs": [
    {
     "name": "stdout",
     "output_type": "stream",
     "text": [
      "莺尾花训练集预测准确率 0.9821428571428571\n",
      "莺尾花训练集预测准确率 0.9736842105263158\n"
     ]
    }
   ],
   "source": [
    "import numpy as np\n",
    "from collections import Counter\n",
    "from sklearn import datasets\n",
    "import torch.nn.functional as Fun\n",
    "from torch.autograd import Variable\n",
    "import matplotlib.pyplot as plt\n",
    "import torch\n",
    "# 数据预处理\n",
    "from sklearn.model_selection import train_test_split\n",
    "\n",
    "\n",
    "#数据准备\n",
    "iris = datasets.load_iris()\n",
    "X_train, X_test, y_train, y_test = train_test_split(iris.data, iris.target, random_state=0)\n",
    "X_train=torch.FloatTensor(X_train)\n",
    "y_train=torch.LongTensor(y_train)\n",
    "\n",
    "#定义BP神经网络\n",
    "class Net(torch.nn.Module):\n",
    "    def __init__(self, n_feature, n_hidden, n_output):\n",
    "        super(Net, self).__init__()\n",
    "        self.hidden = torch.nn.Linear(n_feature, n_hidden)   # hidden layer\n",
    "        self.out = torch.nn.Linear(n_hidden, n_output)   # output layer\n",
    "\n",
    "    def forward(self, x):\n",
    "        x = Fun.relu(self.hidden(x))      # activation function for hidden layer we choose sigmoid\n",
    "        x = self.out(x)\n",
    "        return x\n",
    "\n",
    "net = Net(n_feature=4, n_hidden=60, n_output=3)\n",
    "optimizer = torch.optim.SGD(net.parameters(), lr=0.02) #SGD: 随机梯度下降\n",
    "loss_func = torch.nn.CrossEntropyLoss() #针对分类问题的损失函数![在这里插入图片描述](https://img-blog.csdnimg.cn/20190108120127973.png)\n",
    "\n",
    "#训练数据\n",
    "for t in range(10000):\n",
    "    out = net(X_train)                 # input x and predict based on x\n",
    "    loss = loss_func(out, y_train)     # 输出与label对比\n",
    "    optimizer.zero_grad()   # clear gradients for next train\n",
    "    loss.backward()         # backpropagation, compute gradients\n",
    "    optimizer.step()        # apply gradients\n",
    "\n",
    "out = net(X_train) #out是一个计算矩阵，可以用Fun.softmax(out)转化为概率矩阵\n",
    "prediction = torch.max(out, 1)[1] # 1返回index  0返回原值\n",
    "pred_y = prediction.data.numpy()\n",
    "target_y = y_train.data.numpy()\n",
    "accuracy = float((pred_y == target_y).astype(int).sum()) / float(target_y.size)\n",
    "print(\"莺尾花训练集预测准确率\",accuracy)\n",
    "X_test=torch.FloatTensor(X_test)\n",
    "y_test=torch.LongTensor(y_test)\n",
    "out = net(X_test) #out是一个计算矩阵，可以用Fun.softmax(out)转化为概率矩阵\n",
    "prediction = torch.max(out, 1)[1] # 1返回index  0返回原值\n",
    "pred_y = prediction.data.numpy()\n",
    "target_y = y_test.data.numpy()\n",
    "accuracy = float((pred_y == target_y).astype(int).sum()) / float(target_y.size)\n",
    "print(\"莺尾花训练集预测准确率\",accuracy)"
   ]
  },
  {
   "cell_type": "markdown",
   "metadata": {
    "collapsed": true
   },
   "source": [
    "### 决策树"
   ]
  },
  {
   "cell_type": "code",
   "execution_count": 8,
   "metadata": {},
   "outputs": [
    {
     "name": "stdout",
     "output_type": "stream",
     "text": [
      "训练集精度： 0.982142857143\n",
      "测试集精度： 0.973684210526\n",
      "DecisionTreeClassifier(class_weight=None, criterion='gini', max_depth=5,\n",
      "            max_features=None, max_leaf_nodes=None,\n",
      "            min_impurity_decrease=0.0, min_impurity_split=None,\n",
      "            min_samples_leaf=3, min_samples_split=2,\n",
      "            min_weight_fraction_leaf=0.0, presort=False, random_state=None,\n",
      "            splitter='best')\n"
     ]
    }
   ],
   "source": [
    "from sklearn.tree import DecisionTreeClassifier\n",
    "dt = DecisionTreeClassifier(criterion=\"gini\",max_depth=5,min_samples_leaf=3)\n",
    "dt.fit(X_train,y_train)\n",
    "print(\"训练集精度：\",dt.score(X_train,y_train))\n",
    "print(\"测试集精度：\",dt.score(X_test,y_test))\n",
    "print(dt)"
   ]
  },
  {
   "cell_type": "code",
   "execution_count": 9,
   "metadata": {},
   "outputs": [
    {
     "data": {
      "text/plain": [
       "True"
      ]
     },
     "execution_count": 9,
     "metadata": {},
     "output_type": "execute_result"
    }
   ],
   "source": [
    "# 绘制决策树\n",
    "from sklearn.tree import export_graphviz\n",
    "from sklearn.externals.six import StringIO\n",
    "import pydotplus\n",
    "from io import StringIO\n",
    "dot_data = StringIO()\n",
    "\n",
    "export_graphviz(dt, out_file=dot_data,  # 绘制决策树\n",
    "    feature_names=iris.feature_names,\n",
    "    class_names=iris.target_names,\n",
    "    filled=True, rounded=True,\n",
    "    special_characters=True)\n",
    "graph = pydotplus.graph_from_dot_data(dot_data.getvalue())\n",
    "graph.write_pdf(\"iris.pdf\")"
   ]
  },
  {
   "cell_type": "markdown",
   "metadata": {},
   "source": [
    "### 随机森林"
   ]
  },
  {
   "cell_type": "code",
   "execution_count": 10,
   "metadata": {},
   "outputs": [
    {
     "name": "stdout",
     "output_type": "stream",
     "text": [
      "训练集精度： 0.982142857143\n",
      "测试集精度： 0.973684210526\n",
      "RandomForestClassifier(bootstrap=True, class_weight=None, criterion='gini',\n",
      "            max_depth=4, max_features='auto', max_leaf_nodes=None,\n",
      "            min_impurity_decrease=0.0, min_impurity_split=None,\n",
      "            min_samples_leaf=5, min_samples_split=2,\n",
      "            min_weight_fraction_leaf=0.0, n_estimators=10, n_jobs=1,\n",
      "            oob_score=False, random_state=None, verbose=0,\n",
      "            warm_start=False)\n"
     ]
    }
   ],
   "source": [
    "from sklearn.ensemble import RandomForestClassifier\n",
    "rand_tree = RandomForestClassifier(max_depth=4,min_samples_leaf=5)\n",
    "rand_tree.fit(X_train,y_train)\n",
    "print(\"训练集精度：\",rand_tree.score(X_train,y_train))\n",
    "print(\"测试集精度：\",rand_tree.score(X_test,y_test))\n",
    "print(rand_tree)"
   ]
  },
  {
   "cell_type": "markdown",
   "metadata": {},
   "source": [
    "### SVM"
   ]
  },
  {
   "cell_type": "code",
   "execution_count": 44,
   "metadata": {},
   "outputs": [
    {
     "name": "stdout",
     "output_type": "stream",
     "text": [
      "训练集精度： 0.980952380952\n",
      "测试集精度： 1.0\n"
     ]
    }
   ],
   "source": [
    "from sklearn import svm\n",
    "X_train, X_test, y_train, y_test = train_test_split(iris.data, iris.target, test_size=0.3, random_state=42)\n",
    "svm_classifier = svm.SVC(C=10, kernel='rbf', decision_function_shape='ovr', gamma=0.1)# C是惩罚项（c越大，误差越小，但是容易发生过拟合）\n",
    "svm_classifier.fit(X_train, y_train)\n",
    "print(\"训练集精度：\",svm_classifier.score(X_train,y_train))\n",
    "print(\"测试集精度：\",svm_classifier.score(X_test,y_test))"
   ]
  },
  {
   "cell_type": "code",
   "execution_count": null,
   "metadata": {
    "collapsed": true
   },
   "outputs": [],
   "source": []
  }
 ],
 "metadata": {
  "kernelspec": {
   "display_name": "Python 3",
   "language": "python",
   "name": "python3"
  },
  "language_info": {
   "codemirror_mode": {
    "name": "ipython",
    "version": 3
   },
   "file_extension": ".py",
   "mimetype": "text/x-python",
   "name": "python",
   "nbconvert_exporter": "python",
   "pygments_lexer": "ipython3",
   "version": "3.6.3"
  }
 },
 "nbformat": 4,
 "nbformat_minor": 2
}
