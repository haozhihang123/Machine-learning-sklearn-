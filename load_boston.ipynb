{
 "cells": [
  {
   "cell_type": "code",
   "execution_count": 1,
   "metadata": {
    "collapsed": true
   },
   "outputs": [],
   "source": [
    "from sklearn import datasets\n",
    "from sklearn.model_selection import train_test_split\n",
    "from matplotlib import pyplot as plt"
   ]
  },
  {
   "cell_type": "code",
   "execution_count": 2,
   "metadata": {},
   "outputs": [
    {
     "name": "stdout",
     "output_type": "stream",
     "text": [
      "dict_keys(['data', 'target', 'feature_names', 'DESCR'])\n",
      "[  6.32000000e-03   1.80000000e+01   2.31000000e+00   0.00000000e+00\n",
      "   5.38000000e-01   6.57500000e+00   6.52000000e+01   4.09000000e+00\n",
      "   1.00000000e+00   2.96000000e+02   1.53000000e+01   3.96900000e+02\n",
      "   4.98000000e+00] 24.0\n",
      "(379, 13)\n",
      "(379,)\n"
     ]
    }
   ],
   "source": [
    "data = datasets.load_boston()\n",
    "print(data.keys())\n",
    "print(data.data[0],data.target[0])\n",
    "x_train,x_test,y_train,y_test = train_test_split(data.data,data.target,test_size=0.25,random_state=0)\n",
    "print(x_train.shape)\n",
    "print(y_train.shape)"
   ]
  },
  {
   "cell_type": "markdown",
   "metadata": {},
   "source": [
    "## knn求回归"
   ]
  },
  {
   "cell_type": "markdown",
   "metadata": {},
   "source": [
    "### 未进行标准化"
   ]
  },
  {
   "cell_type": "code",
   "execution_count": 3,
   "metadata": {},
   "outputs": [
    {
     "name": "stdout",
     "output_type": "stream",
     "text": [
      "训练集精度： 0.706199043917\n",
      "测试集精度： 0.461638092461\n",
      "测试集数据： [ 22.6  50.   23.    8.3  21.2  19.9  20.6  18.7  16.1  18.6]\n",
      "预测数据： [ 20.76  29.54  23.08  11.94  21.82  21.4   22.96  24.38  30.24  18.26]\n",
      "KNeighborsRegressor(algorithm='auto', leaf_size=30, metric='minkowski',\n",
      "          metric_params=None, n_jobs=1, n_neighbors=5, p=2,\n",
      "          weights='uniform')\n"
     ]
    }
   ],
   "source": [
    "# knn\n",
    "from sklearn.neighbors import KNeighborsRegressor\n",
    "knn = KNeighborsRegressor(weights='uniform')\n",
    "# dis_knr=KNeighborsRegressor(weights='distance')\n",
    "knn.fit(x_train,y_train)\n",
    "print(\"训练集精度：\",knn.score(x_train,y_train))\n",
    "print(\"测试集精度：\",knn.score(x_test,y_test))\n",
    "pre = knn.predict(x_test)\n",
    "print(\"测试集数据：\",y_test[:10])\n",
    "print(\"预测数据：\",pre[:10])\n",
    "print(knn)"
   ]
  },
  {
   "cell_type": "markdown",
   "metadata": {},
   "source": [
    "### 标准化"
   ]
  },
  {
   "cell_type": "code",
   "execution_count": 4,
   "metadata": {
    "collapsed": true
   },
   "outputs": [],
   "source": [
    "from sklearn.preprocessing import StandardScaler\n",
    "std_x = StandardScaler()\n",
    "std_x_train = std_x.fit_transform(x_train)\n",
    "std_x_test = std_x.fit_transform(x_test)\n",
    "std_y = StandardScaler()\n",
    "std_y_train = std_y.fit_transform(y_train.reshape(-1,1))\n",
    "std_y_test = std_y.fit_transform(y_test.reshape(-1,1))"
   ]
  },
  {
   "cell_type": "code",
   "execution_count": 5,
   "metadata": {},
   "outputs": [
    {
     "name": "stdout",
     "output_type": "stream",
     "text": [
      "训练集精度： 1.0\n",
      "测试集精度： 0.671222721037\n",
      "测试集数据： [ 22.6  50.   23.    8.3  21.2  19.9  20.6  18.7  16.1  18.6]\n",
      "预测数据： [ 19.06834086  13.68594518  21.22129913  10.45650777  20.53626696  20.14482\n",
      "  20.92771391  18.77475564  21.51488435  13.39235996]\n",
      "KNeighborsRegressor(algorithm='auto', leaf_size=30, metric='minkowski',\n",
      "          metric_params=None, n_jobs=1, n_neighbors=1, p=2,\n",
      "          weights='uniform')\n"
     ]
    }
   ],
   "source": [
    "knn_1 = KNeighborsRegressor(n_neighbors=1)\n",
    "knn_1.fit(std_x_train,std_y_train)\n",
    "print(\"训练集精度：\",knn_1.score(std_x_train,std_y_train))\n",
    "print(\"测试集精度：\",knn_1.score(std_x_test,std_y_test))\n",
    "pre = knn_1.predict(std_x_test)\n",
    "pre = (std_y.inverse_transform(pre)).reshape(1,-1)\n",
    "print(\"测试集数据：\",y_test[:10])\n",
    "print(\"预测数据：\",pre[0][:10])\n",
    "print(knn_1)"
   ]
  },
  {
   "cell_type": "markdown",
   "metadata": {},
   "source": [
    "### 线性回归求回归"
   ]
  },
  {
   "cell_type": "markdown",
   "metadata": {},
   "source": [
    "### 未标准化"
   ]
  },
  {
   "cell_type": "code",
   "execution_count": 9,
   "metadata": {},
   "outputs": [
    {
     "name": "stdout",
     "output_type": "stream",
     "text": [
      "训练集精度： 0.706199043917\n",
      "测试集精度： 0.461638092461\n",
      "测试集数据： [ 22.6  50.   23.    8.3  21.2  19.9  20.6  18.7  16.1  18.6]\n",
      "预测数据： [ 24.95242095  23.62103603  29.21341544  11.97586964  21.33688522\n",
      "  19.47270023  20.42304705  21.52151744  18.99420776  19.91486748]\n"
     ]
    }
   ],
   "source": [
    "from sklearn.linear_model import LinearRegression,SGDRegressor,Ridge\n",
    "liner = LinearRegression()\n",
    "liner.fit(x_train,y_train)\n",
    "print(\"训练集精度：\",knn.score(x_train,y_train))\n",
    "print(\"测试集精度：\",knn.score(x_test,y_test))\n",
    "pre = liner.predict(x_test)\n",
    "print(\"测试集数据：\",y_test[:10])\n",
    "print(\"预测数据：\",pre[:10])"
   ]
  },
  {
   "cell_type": "markdown",
   "metadata": {},
   "source": [
    "### 标准化"
   ]
  },
  {
   "cell_type": "code",
   "execution_count": 10,
   "metadata": {},
   "outputs": [
    {
     "name": "stdout",
     "output_type": "stream",
     "text": [
      "训练集精度： 0.769744837056\n",
      "测试集精度： 0.628774262573\n",
      "测试集数据： [ 22.6  50.   23.    8.3  21.2  19.9  20.6  18.7  16.1  18.6]\n",
      "预测数据： [ 25.50318616  23.73799981  29.48856662  12.52222907  21.80708885\n",
      "  20.04844701  20.60833108  22.1301171   19.7790484   20.45887622]\n"
     ]
    }
   ],
   "source": [
    "liner.fit(std_x_train,std_y_train)\n",
    "print(\"训练集精度：\",liner.score(std_x_train,std_y_train))\n",
    "print(\"测试集精度：\",liner.score(std_x_test,std_y_test))\n",
    "pre = liner.predict(std_x_test)\n",
    "pre = (std_y.inverse_transform(pre)).reshape(1,-1)\n",
    "print(\"测试集数据：\",y_test[:10])\n",
    "print(\"预测数据：\",pre[0][:10])"
   ]
  },
  {
   "cell_type": "code",
   "execution_count": 11,
   "metadata": {},
   "outputs": [
    {
     "name": "stdout",
     "output_type": "stream",
     "text": [
      "训练集精度： 0.75757701537\n",
      "测试集精度： 0.578807096638\n",
      "测试集数据： [ 22.6  50.   23.    8.3  21.2  19.9  20.6  18.7  16.1  18.6]\n",
      "预测数据： [ 27.46005166  21.70830418  29.16087693  11.53581907  22.27347661\n",
      "  20.50558248  19.35787702  22.06361479  18.60940689  20.13145392]\n"
     ]
    },
    {
     "name": "stderr",
     "output_type": "stream",
     "text": [
      "D:\\anaconda\\lib\\site-packages\\sklearn\\linear_model\\stochastic_gradient.py:128: FutureWarning: max_iter and tol parameters have been added in <class 'sklearn.linear_model.stochastic_gradient.SGDRegressor'> in 0.19. If both are left unset, they default to max_iter=5 and tol=None. If tol is not None, max_iter defaults to max_iter=1000. From 0.21, default max_iter will be 1000, and default tol will be 1e-3.\n",
      "  \"and default tol will be 1e-3.\" % type(self), FutureWarning)\n",
      "D:\\anaconda\\lib\\site-packages\\sklearn\\utils\\validation.py:578: DataConversionWarning: A column-vector y was passed when a 1d array was expected. Please change the shape of y to (n_samples, ), for example using ravel().\n",
      "  y = column_or_1d(y, warn=True)\n"
     ]
    }
   ],
   "source": [
    "liner1 = SGDRegressor()\n",
    "liner1.fit(std_x_train,std_y_train)\n",
    "print(\"训练集精度：\",liner1.score(std_x_train,std_y_train))\n",
    "print(\"测试集精度：\",liner1.score(std_x_test,std_y_test))\n",
    "pre = liner1.predict(std_x_test)\n",
    "pre = (std_y.inverse_transform(pre)).reshape(1,-1)\n",
    "print(\"测试集数据：\",y_test[:10])\n",
    "print(\"预测数据：\",pre[0][:10])"
   ]
  },
  {
   "cell_type": "code",
   "execution_count": 12,
   "metadata": {},
   "outputs": [
    {
     "name": "stdout",
     "output_type": "stream",
     "text": [
      "训练集精度： 0.769728056179\n",
      "测试集精度： 0.627998164189\n",
      "测试集数据： [ 22.6  50.   23.    8.3  21.2  19.9  20.6  18.7  16.1  18.6]\n",
      "预测数据： [ 25.58796116  23.67840415  29.44738279  12.51769758  21.82505918\n",
      "  20.06936515  20.57437541  22.11526368  19.7530987   20.47583306]\n"
     ]
    }
   ],
   "source": [
    "liner1 = Ridge()\n",
    "liner1.fit(std_x_train,std_y_train)\n",
    "print(\"训练集精度：\",liner1.score(std_x_train,std_y_train))\n",
    "print(\"测试集精度：\",liner1.score(std_x_test,std_y_test))\n",
    "pre = liner1.predict(std_x_test)\n",
    "pre = (std_y.inverse_transform(pre)).reshape(1,-1)\n",
    "print(\"测试集数据：\",y_test[:10])\n",
    "print(\"预测数据：\",pre[0][:10])"
   ]
  },
  {
   "cell_type": "markdown",
   "metadata": {},
   "source": [
    "### 决策树"
   ]
  },
  {
   "cell_type": "code",
   "execution_count": 41,
   "metadata": {},
   "outputs": [
    {
     "name": "stdout",
     "output_type": "stream",
     "text": [
      "训练集精度： 0.866062984928\n",
      "测试集精度： 0.620289256049\n",
      "DecisionTreeRegressor(criterion='mse', max_depth=4, max_features=None,\n",
      "           max_leaf_nodes=None, min_impurity_decrease=0.0,\n",
      "           min_impurity_split=None, min_samples_leaf=5,\n",
      "           min_samples_split=2, min_weight_fraction_leaf=0.0,\n",
      "           presort=False, random_state=None, splitter='best')\n"
     ]
    }
   ],
   "source": [
    "from sklearn.tree import DecisionTreeRegressor\n",
    "dt = DecisionTreeRegressor(max_depth=4,min_samples_leaf=5)\n",
    "dt.fit(std_x_train,std_y_train)\n",
    "print(\"训练集精度：\",dt.score(std_x_train,std_y_train))\n",
    "print(\"测试集精度：\",dt.score(std_x_test,std_y_test))\n",
    "print(dt)"
   ]
  },
  {
   "cell_type": "code",
   "execution_count": 43,
   "metadata": {},
   "outputs": [
    {
     "data": {
      "text/plain": [
       "True"
      ]
     },
     "execution_count": 43,
     "metadata": {},
     "output_type": "execute_result"
    }
   ],
   "source": [
    "# 绘制决策树\n",
    "from sklearn.tree import export_graphviz\n",
    "from sklearn.externals.six import StringIO\n",
    "import pydotplus\n",
    "from io import StringIO\n",
    "dot_data = StringIO()\n",
    "\n",
    "export_graphviz(dt, out_file=dot_data,  # 绘制决策树\n",
    "    feature_names=data.feature_names,\n",
    "    class_names=data.target,\n",
    "    filled=True, rounded=True,\n",
    "    special_characters=True)\n",
    "graph = pydotplus.graph_from_dot_data(dot_data.getvalue())\n",
    "graph.write_pdf(\"boston.pdf\")"
   ]
  },
  {
   "cell_type": "markdown",
   "metadata": {},
   "source": [
    "### 随机森林"
   ]
  },
  {
   "cell_type": "code",
   "execution_count": 106,
   "metadata": {},
   "outputs": [
    {
     "name": "stdout",
     "output_type": "stream",
     "text": [
      "训练集精度： 0.895424606846\n",
      "测试集精度： 0.705533732147\n",
      "RandomForestRegressor(bootstrap=True, criterion='mse', max_depth=5,\n",
      "           max_features='auto', max_leaf_nodes=None,\n",
      "           min_impurity_decrease=0.0, min_impurity_split=None,\n",
      "           min_samples_leaf=8, min_samples_split=2,\n",
      "           min_weight_fraction_leaf=0.0, n_estimators=100, n_jobs=1,\n",
      "           oob_score=False, random_state=None, verbose=0, warm_start=False)\n"
     ]
    },
    {
     "name": "stderr",
     "output_type": "stream",
     "text": [
      "D:\\anaconda\\lib\\site-packages\\ipykernel_launcher.py:3: DataConversionWarning: A column-vector y was passed when a 1d array was expected. Please change the shape of y to (n_samples,), for example using ravel().\n",
      "  This is separate from the ipykernel package so we can avoid doing imports until\n"
     ]
    }
   ],
   "source": [
    "from sklearn.ensemble import RandomForestRegressor\n",
    "rand_forse = RandomForestRegressor(max_depth=5,n_estimators=100,min_samples_leaf=8)\n",
    "rand_forse.fit(std_x_train,std_y_train)\n",
    "print(\"训练集精度：\",rand_forse.score(std_x_train,std_y_train))\n",
    "print(\"测试集精度：\",rand_forse.score(std_x_test,std_y_test))\n",
    "print(rand_forse)"
   ]
  },
  {
   "cell_type": "code",
   "execution_count": 107,
   "metadata": {},
   "outputs": [
    {
     "name": "stdout",
     "output_type": "stream",
     "text": [
      "[ 22.6  50.   23.    8.3  21.2  19.9  20.6  18.7  16.1  18.6]\n",
      "[ 24.1092662   22.59136113  22.28896088  11.53346201  20.28399627\n",
      "  21.84952624  20.70683923  21.71398095  20.829715    20.88665324]\n"
     ]
    }
   ],
   "source": [
    "y_pre = rand_forse.predict(std_x_test)\n",
    "print(y_test[:10])\n",
    "y_pre = std_y.inverse_transform(y_pre)\n",
    "print(y_pre[:10])"
   ]
  },
  {
   "cell_type": "markdown",
   "metadata": {},
   "source": [
    "### SVM"
   ]
  },
  {
   "cell_type": "code",
   "execution_count": 44,
   "metadata": {},
   "outputs": [
    {
     "name": "stdout",
     "output_type": "stream",
     "text": [
      "SVR(C=30.0, cache_size=200, coef0=0.0, degree=3, epsilon=0.1, gamma='auto',\n",
      "  kernel='rbf', max_iter=-1, shrinking=True, tol=0.001, verbose=False)\n",
      "训练集精度： 0.985512404183\n",
      "测试集精度： 0.795641628435\n"
     ]
    },
    {
     "name": "stderr",
     "output_type": "stream",
     "text": [
      "D:\\anaconda\\lib\\site-packages\\sklearn\\utils\\validation.py:578: DataConversionWarning: A column-vector y was passed when a 1d array was expected. Please change the shape of y to (n_samples, ), for example using ravel().\n",
      "  y = column_or_1d(y, warn=True)\n"
     ]
    }
   ],
   "source": [
    "from sklearn.svm import SVR\n",
    "svm = SVR(C=30.0)\n",
    "svm.fit(std_x_train,std_y_train)\n",
    "print(svm)\n",
    "print(\"训练集精度：\",svm.score(std_x_train,std_y_train))\n",
    "print(\"测试集精度：\",svm.score(std_x_test,std_y_test))"
   ]
  },
  {
   "cell_type": "markdown",
   "metadata": {},
   "source": [
    "### sklearn神经网络"
   ]
  },
  {
   "cell_type": "code",
   "execution_count": 34,
   "metadata": {},
   "outputs": [
    {
     "name": "stderr",
     "output_type": "stream",
     "text": [
      "D:\\anaconda\\lib\\site-packages\\sklearn\\neural_network\\multilayer_perceptron.py:1306: DataConversionWarning: A column-vector y was passed when a 1d array was expected. Please change the shape of y to (n_samples, ), for example using ravel().\n",
      "  y = column_or_1d(y, warn=True)\n"
     ]
    },
    {
     "name": "stdout",
     "output_type": "stream",
     "text": [
      "训练集精度： 0.943283808629\n",
      "测试集精度： 0.788584786358\n",
      "测试集数据： [ 22.6  50.   23.    8.3  21.2  19.9  20.6  18.7  16.1  18.6]\n",
      "预测数据： [ 24.99024744  26.36005769  25.34322654  10.99711254  20.03646316\n",
      "  18.97740417  24.04729584  21.50399837  20.16856283  20.65604892]\n"
     ]
    },
    {
     "name": "stderr",
     "output_type": "stream",
     "text": [
      "D:\\anaconda\\lib\\site-packages\\sklearn\\neural_network\\multilayer_perceptron.py:564: ConvergenceWarning: Stochastic Optimizer: Maximum iterations (200) reached and the optimization hasn't converged yet.\n",
      "  % self.max_iter, ConvergenceWarning)\n"
     ]
    }
   ],
   "source": [
    "from sklearn.neural_network import MLPRegressor\n",
    "net = MLPRegressor()\n",
    "net.fit(std_x_train,std_y_train)\n",
    "print(\"训练集精度：\",net.score(std_x_train,std_y_train))\n",
    "print(\"测试集精度：\",net.score(std_x_test,std_y_test))\n",
    "pre = net.predict(std_x_test)\n",
    "pre = (std_y.inverse_transform(pre)).reshape(1,-1)\n",
    "print(\"测试集数据：\",y_test[:10])\n",
    "print(\"预测数据：\",pre[0][:10])"
   ]
  },
  {
   "cell_type": "markdown",
   "metadata": {},
   "source": [
    "### pytorch神经网络"
   ]
  },
  {
   "cell_type": "code",
   "execution_count": 35,
   "metadata": {
    "collapsed": true
   },
   "outputs": [],
   "source": [
    "import torch\n",
    "from torch import nn\n",
    "from torch.autograd import Variable"
   ]
  },
  {
   "cell_type": "code",
   "execution_count": 36,
   "metadata": {},
   "outputs": [
    {
     "name": "stdout",
     "output_type": "stream",
     "text": [
      "Sequential(\n",
      "  (0): Linear(in_features=13, out_features=100, bias=True)\n",
      "  (1): ReLU()\n",
      "  (2): Linear(in_features=100, out_features=60, bias=True)\n",
      "  (3): ReLU()\n",
      "  (4): Linear(in_features=60, out_features=1, bias=True)\n",
      ")\n"
     ]
    }
   ],
   "source": [
    "net = nn.Sequential(\n",
    "    nn.Linear(13,100),\n",
    "    nn.ReLU(),\n",
    "    nn.Linear(100,60),\n",
    "    nn.ReLU(),\n",
    "    nn.Linear(60,1)\n",
    ")\n",
    "print(net)\n",
    "criteriton = nn.MSELoss()\n",
    "optimizer = torch.optim.SGD(net.parameters(),lr=0.001)"
   ]
  },
  {
   "cell_type": "code",
   "execution_count": 37,
   "metadata": {},
   "outputs": [
    {
     "name": "stdout",
     "output_type": "stream",
     "text": [
      "loss: tensor(0.9575, grad_fn=<MseLossBackward>)\n",
      "loss: tensor(0.2506, grad_fn=<MseLossBackward>)\n",
      "loss: tensor(0.1771, grad_fn=<MseLossBackward>)\n",
      "loss: tensor(0.1514, grad_fn=<MseLossBackward>)\n",
      "loss: tensor(0.1354, grad_fn=<MseLossBackward>)\n",
      "loss: tensor(0.1232, grad_fn=<MseLossBackward>)\n",
      "loss: tensor(0.1132, grad_fn=<MseLossBackward>)\n",
      "loss: tensor(0.1050, grad_fn=<MseLossBackward>)\n",
      "loss: tensor(0.0981, grad_fn=<MseLossBackward>)\n",
      "loss: tensor(0.0922, grad_fn=<MseLossBackward>)\n"
     ]
    }
   ],
   "source": [
    "std_x_train_v = Variable(torch.from_numpy(std_x_train)).float()\n",
    "std_y_train_v = Variable(torch.from_numpy(std_y_train).float())\n",
    "std_x_test_v = Variable(torch.from_numpy(std_x_test)).float()\n",
    "std_y_test_v = Variable(torch.from_numpy(std_y_test).float())\n",
    "for i in range(10000):\n",
    "    out = net(std_x_train_v)\n",
    "    loss = criteriton(out,std_y_train_v)\n",
    "    optimizer.zero_grad()\n",
    "    loss.backward()\n",
    "    optimizer.step()\n",
    "    if i % 1000==0:\n",
    "        print(\"loss:\",loss)\n"
   ]
  },
  {
   "cell_type": "code",
   "execution_count": 42,
   "metadata": {},
   "outputs": [
    {
     "name": "stdout",
     "output_type": "stream",
     "text": [
      "测试集数据： [ 22.6  50.   23.    8.3  21.2  19.9  20.6  18.7  16.1  18.6]\n",
      "预测数据： [ 26.24792862  24.98355865  26.61727524  12.23137665  20.13453484\n",
      "  20.66498947  22.60262108  21.33458328  20.30588531  17.54211235]\n"
     ]
    }
   ],
   "source": [
    "pre = net(std_x_test_v).data.numpy()\n",
    "pre = std_y.inverse_transform(pre)\n",
    "pre = pre.reshape(1,-1)\n",
    "print(\"测试集数据：\",y_test[:10])\n",
    "print(\"预测数据：\",pre[0][:10])"
   ]
  },
  {
   "cell_type": "code",
   "execution_count": null,
   "metadata": {
    "collapsed": true
   },
   "outputs": [],
   "source": []
  }
 ],
 "metadata": {
  "kernelspec": {
   "display_name": "Python 3",
   "language": "python",
   "name": "python3"
  },
  "language_info": {
   "codemirror_mode": {
    "name": "ipython",
    "version": 3
   },
   "file_extension": ".py",
   "mimetype": "text/x-python",
   "name": "python",
   "nbconvert_exporter": "python",
   "pygments_lexer": "ipython3",
   "version": "3.6.3"
  }
 },
 "nbformat": 4,
 "nbformat_minor": 2
}
