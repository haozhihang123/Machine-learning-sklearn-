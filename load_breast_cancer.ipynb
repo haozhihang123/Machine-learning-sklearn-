{
 "cells": [
  {
   "cell_type": "code",
   "execution_count": 45,
   "metadata": {
    "collapsed": true
   },
   "outputs": [],
   "source": [
    "from sklearn import datasets\n",
    "from sklearn.model_selection import train_test_split\n",
    "from sklearn.neighbors import KNeighborsClassifier\n",
    "from sklearn.preprocessing import StandardScaler\n",
    "from sklearn.neural_network import MLPClassifier\n",
    "import sklearn"
   ]
  },
  {
   "cell_type": "code",
   "execution_count": 2,
   "metadata": {
    "collapsed": true
   },
   "outputs": [],
   "source": [
    "# 导入数据\n",
    "breast_cancer = datasets.load_breast_cancer()"
   ]
  },
  {
   "cell_type": "code",
   "execution_count": 3,
   "metadata": {},
   "outputs": [
    {
     "name": "stdout",
     "output_type": "stream",
     "text": [
      "dict_keys(['data', 'target', 'target_names', 'DESCR', 'feature_names'])\n",
      "(569, 30) (569,)\n",
      "[  1.79900000e+01   1.03800000e+01   1.22800000e+02   1.00100000e+03\n",
      "   1.18400000e-01   2.77600000e-01   3.00100000e-01   1.47100000e-01\n",
      "   2.41900000e-01   7.87100000e-02   1.09500000e+00   9.05300000e-01\n",
      "   8.58900000e+00   1.53400000e+02   6.39900000e-03   4.90400000e-02\n",
      "   5.37300000e-02   1.58700000e-02   3.00300000e-02   6.19300000e-03\n",
      "   2.53800000e+01   1.73300000e+01   1.84600000e+02   2.01900000e+03\n",
      "   1.62200000e-01   6.65600000e-01   7.11900000e-01   2.65400000e-01\n",
      "   4.60100000e-01   1.18900000e-01]\n"
     ]
    }
   ],
   "source": [
    "# 观察数据结构\n",
    "print(breast_cancer.keys())\n",
    "print(breast_cancer.data.shape,breast_cancer.target.shape)\n",
    "print(breast_cancer.data[0])"
   ]
  },
  {
   "cell_type": "markdown",
   "metadata": {},
   "source": [
    "### 数据标准化"
   ]
  },
  {
   "cell_type": "code",
   "execution_count": 9,
   "metadata": {},
   "outputs": [
    {
     "name": "stdout",
     "output_type": "stream",
     "text": [
      "[ 1.09706398 -2.07333501  1.26993369  0.9843749   1.56846633  3.28351467\n",
      "  2.65287398  2.53247522  2.21751501  2.25574689  2.48973393 -0.56526506\n",
      "  2.83303087  2.48757756 -0.21400165  1.31686157  0.72402616  0.66081994\n",
      "  1.14875667  0.90708308  1.88668963 -1.35929347  2.30360062  2.00123749\n",
      "  1.30768627  2.61666502  2.10952635  2.29607613  2.75062224  1.93701461]\n",
      "(426, 30) (426,)\n",
      "(143, 30) (143,)\n"
     ]
    }
   ],
   "source": [
    "std_x = StandardScaler()\n",
    "data = std_x.fit_transform(breast_cancer.data)\n",
    "print(data[0])\n",
    "# 把数据分为数据集和测试集\n",
    "std_X_train,std_X_test,std_y_train,std_y_test = train_test_split(data,breast_cancer.target,test_size=0.25,random_state=0)\n",
    "print(X_train.shape,y_train.shape)\n",
    "print(X_test.shape,y_test.shape)"
   ]
  },
  {
   "cell_type": "markdown",
   "metadata": {},
   "source": [
    "### knn模型---数据标准化之后"
   ]
  },
  {
   "cell_type": "code",
   "execution_count": 10,
   "metadata": {},
   "outputs": [
    {
     "name": "stdout",
     "output_type": "stream",
     "text": [
      "训练集精度： 0.983568075117\n",
      "测试集精度： 0.944055944056\n"
     ]
    }
   ],
   "source": [
    "# 模型实例化并加载数据\n",
    "knn = KNeighborsClassifier(n_neighbors=3)\n",
    "knn.fit(std_X_train,std_y_train)\n",
    "print(\"训练集精度：\",knn.score(std_X_train,std_y_train))\n",
    "print(\"测试集精度：\",knn.score(std_X_test,std_y_test))"
   ]
  },
  {
   "cell_type": "markdown",
   "metadata": {},
   "source": [
    "### knn模型---数据标准化之前"
   ]
  },
  {
   "cell_type": "code",
   "execution_count": 6,
   "metadata": {},
   "outputs": [
    {
     "name": "stdout",
     "output_type": "stream",
     "text": [
      "训练集精度： 0.957746478873\n",
      "测试集精度： 0.923076923077\n"
     ]
    }
   ],
   "source": [
    "X_train,X_test,y_train,y_test = train_test_split(breast_cancer.data,breast_cancer.target,test_size=0.25,random_state=0)\n",
    "# 模型实例化并加载数据\n",
    "knn = KNeighborsClassifier(n_neighbors=3)\n",
    "knn.fit(X_train,y_train)\n",
    "print(\"训练集精度：\",knn.score(X_train,y_train))\n",
    "print(\"测试集精度：\",knn.score(X_test,y_test))"
   ]
  },
  {
   "cell_type": "markdown",
   "metadata": {},
   "source": [
    "### 决策树"
   ]
  },
  {
   "cell_type": "code",
   "execution_count": 44,
   "metadata": {},
   "outputs": [
    {
     "name": "stdout",
     "output_type": "stream",
     "text": [
      "训练集精度： 0.992957746479\n",
      "测试集精度： 0.93006993007\n",
      "DecisionTreeClassifier(class_weight=None, criterion='gini', max_depth=5,\n",
      "            max_features=None, max_leaf_nodes=None,\n",
      "            min_impurity_decrease=0.0, min_impurity_split=None,\n",
      "            min_samples_leaf=1, min_samples_split=2,\n",
      "            min_weight_fraction_leaf=0.0, presort=False, random_state=None,\n",
      "            splitter='best')\n"
     ]
    }
   ],
   "source": [
    "from sklearn.tree import DecisionTreeClassifier\n",
    "tree = DecisionTreeClassifier(max_depth=5)\n",
    "tree.fit(std_X_train,std_y_train)\n",
    "print(\"训练集精度：\",tree.score(std_X_train,std_y_train))\n",
    "print(\"测试集精度：\",tree.score(std_X_test,std_y_test))\n",
    "print(tree)"
   ]
  },
  {
   "cell_type": "markdown",
   "metadata": {},
   "source": [
    "### 随机森林"
   ]
  },
  {
   "cell_type": "code",
   "execution_count": 69,
   "metadata": {},
   "outputs": [
    {
     "name": "stdout",
     "output_type": "stream",
     "text": [
      "训练集精度： 0.967136150235\n",
      "测试集精度： 0.965034965035\n",
      "RandomForestClassifier(bootstrap=True, class_weight=None, criterion='gini',\n",
      "            max_depth=8, max_features='auto', max_leaf_nodes=None,\n",
      "            min_impurity_decrease=0.0, min_impurity_split=None,\n",
      "            min_samples_leaf=7, min_samples_split=2,\n",
      "            min_weight_fraction_leaf=0.0, n_estimators=10, n_jobs=1,\n",
      "            oob_score=False, random_state=None, verbose=0,\n",
      "            warm_start=False)\n"
     ]
    }
   ],
   "source": [
    "from sklearn.ensemble import RandomForestClassifier\n",
    "rand_forest = RandomForestClassifier(max_depth=8,min_samples_leaf=7)\n",
    "rand_forest.fit(std_X_train,std_y_train)\n",
    "print(\"训练集精度：\",rand_forest.score(std_X_train,std_y_train))\n",
    "print(\"测试集精度：\",rand_forest.score(std_X_test,std_y_test))\n",
    "print(rand_forest)"
   ]
  },
  {
   "cell_type": "markdown",
   "metadata": {},
   "source": [
    "### sklearn中的人工神经网络库"
   ]
  },
  {
   "cell_type": "code",
   "execution_count": 165,
   "metadata": {},
   "outputs": [
    {
     "name": "stdout",
     "output_type": "stream",
     "text": [
      "MLPClassifier(activation='relu', alpha=0.0001, batch_size='auto', beta_1=0.9,\n",
      "       beta_2=0.999, early_stopping=False, epsilon=1e-08,\n",
      "       hidden_layer_sizes=(100,), learning_rate='constant',\n",
      "       learning_rate_init=0.001, max_iter=200, momentum=0.9,\n",
      "       nesterovs_momentum=True, power_t=0.5, random_state=None,\n",
      "       shuffle=True, solver='adam', tol=0.0001, validation_fraction=0.1,\n",
      "       verbose=False, warm_start=False)\n"
     ]
    }
   ],
   "source": [
    "# 标准化之前\n",
    "X_train,X_test,y_train,y_test = train_test_split(breast_cancer.data,breast_cancer.target,test_size=0.25,random_state=1)\n",
    "# 模型实例化并加载数据---单个隐含层，100个神经元\n",
    "net_0 = MLPClassifier()\n",
    "net_0.fit(X_train,y_train)\n",
    "print(net)\n",
    "# print(\"训练集精度：\",net.score(X_train,y_train))\n",
    "# print(\"测试集精度：\",net.score(X_test,y_test))"
   ]
  },
  {
   "cell_type": "code",
   "execution_count": null,
   "metadata": {
    "collapsed": true
   },
   "outputs": [],
   "source": []
  },
  {
   "cell_type": "code",
   "execution_count": 166,
   "metadata": {},
   "outputs": [
    {
     "name": "stdout",
     "output_type": "stream",
     "text": [
      "训练集精度： 0.913145539906\n",
      "测试集精度： 0.937062937063\n"
     ]
    }
   ],
   "source": [
    "print(\"训练集精度：\",net_0.score(X_train,y_train))\n",
    "print(\"测试集精度：\",net_0.score(X_test,y_test))"
   ]
  },
  {
   "cell_type": "code",
   "execution_count": 169,
   "metadata": {},
   "outputs": [
    {
     "name": "stdout",
     "output_type": "stream",
     "text": [
      "[ 1.09706398 -2.07333501  1.26993369  0.9843749   1.56846633  3.28351467\n",
      "  2.65287398  2.53247522  2.21751501  2.25574689  2.48973393 -0.56526506\n",
      "  2.83303087  2.48757756 -0.21400165  1.31686157  0.72402616  0.66081994\n",
      "  1.14875667  0.90708308  1.88668963 -1.35929347  2.30360062  2.00123749\n",
      "  1.30768627  2.61666502  2.10952635  2.29607613  2.75062224  1.93701461]\n"
     ]
    },
    {
     "name": "stderr",
     "output_type": "stream",
     "text": [
      "D:\\anaconda\\lib\\site-packages\\sklearn\\neural_network\\multilayer_perceptron.py:564: ConvergenceWarning: Stochastic Optimizer: Maximum iterations (200) reached and the optimization hasn't converged yet.\n",
      "  % self.max_iter, ConvergenceWarning)\n"
     ]
    },
    {
     "data": {
      "text/plain": [
       "MLPClassifier(activation='relu', alpha=0.0001, batch_size='auto', beta_1=0.9,\n",
       "       beta_2=0.999, early_stopping=False, epsilon=1e-08,\n",
       "       hidden_layer_sizes=(100,), learning_rate='constant',\n",
       "       learning_rate_init=0.001, max_iter=200, momentum=0.9,\n",
       "       nesterovs_momentum=True, power_t=0.5, random_state=None,\n",
       "       shuffle=True, solver='adam', tol=0.0001, validation_fraction=0.1,\n",
       "       verbose=False, warm_start=False)"
      ]
     },
     "execution_count": 169,
     "metadata": {},
     "output_type": "execute_result"
    }
   ],
   "source": [
    "# 标准化之后\n",
    "std_x = StandardScaler()\n",
    "data = std_x.fit_transform(breast_cancer.data)\n",
    "print(data[0])\n",
    "X_train,X_test,y_train,y_test = train_test_split(data,breast_cancer.target,test_size=0.25,random_state=0)\n",
    "net = MLPClassifier()\n",
    "net.fit(X_train,y_train)"
   ]
  },
  {
   "cell_type": "code",
   "execution_count": 170,
   "metadata": {},
   "outputs": [
    {
     "name": "stdout",
     "output_type": "stream",
     "text": [
      "训练集精度： 0.990610328638\n",
      "测试集精度： 0.958041958042\n"
     ]
    }
   ],
   "source": [
    "print(\"训练集精度：\",net.score(X_train,y_train))\n",
    "print(\"测试集精度：\",net.score(X_test,y_test))"
   ]
  },
  {
   "cell_type": "markdown",
   "metadata": {},
   "source": [
    "### pytorch编写的神经网络框架"
   ]
  },
  {
   "cell_type": "code",
   "execution_count": 236,
   "metadata": {
    "collapsed": true
   },
   "outputs": [],
   "source": [
    "import torch\n",
    "from torch import nn\n",
    "from torch.autograd import Variable"
   ]
  },
  {
   "cell_type": "code",
   "execution_count": 237,
   "metadata": {
    "collapsed": true
   },
   "outputs": [],
   "source": [
    "# 标准化之前\n",
    "X_train,X_test,y_train,y_test = train_test_split(breast_cancer.data,breast_cancer.target,test_size=0.25,random_state=1)\n",
    "# 使用 Sequential 定义 3 层神经网络\n",
    "net = nn.Sequential(\n",
    "    nn.Linear(30, 100),\n",
    "    nn.ReLU(),\n",
    "    nn.Linear(100, 2)\n",
    ")\n",
    "# 定义 loss 函数---交叉熵\n",
    "criterion = nn.CrossEntropyLoss()\n",
    "optimizer = torch.optim.SGD(net.parameters(), 1e-3) # 使用随机梯度下降，学习率 0.001"
   ]
  },
  {
   "cell_type": "code",
   "execution_count": 238,
   "metadata": {},
   "outputs": [
    {
     "name": "stdout",
     "output_type": "stream",
     "text": [
      "epoch: 2, loss: 308.1055908203125\n",
      "epoch: 1000, loss: 0.19134202599525452\n",
      "epoch: 2000, loss: 0.18094660341739655\n",
      "epoch: 3000, loss: 0.1736592948436737\n",
      "epoch: 4000, loss: 0.16670948266983032\n",
      "epoch: 5000, loss: 0.16495977342128754\n",
      "epoch: 6000, loss: 0.16151118278503418\n",
      "epoch: 7000, loss: 0.15963903069496155\n",
      "epoch: 8000, loss: 0.15406864881515503\n",
      "epoch: 9000, loss: 0.15289217233657837\n",
      "epoch: 10000, loss: 0.1520453244447708\n"
     ]
    }
   ],
   "source": [
    "# 我们训练 10000 次\n",
    "for e in range(10000):\n",
    "    out = net(Variable(torch.from_numpy(X_train)).float())\n",
    "    loss = criterion(out, Variable(torch.from_numpy(y_train)).long())\n",
    "    optimizer.zero_grad()\n",
    "    loss.backward()\n",
    "    optimizer.step()\n",
    "    if ((e + 1) % 1000 == 0) or e == 1:\n",
    "        print('epoch: {}, loss: {}'.format(e+1, loss))"
   ]
  },
  {
   "cell_type": "code",
   "execution_count": 240,
   "metadata": {},
   "outputs": [
    {
     "name": "stdout",
     "output_type": "stream",
     "text": [
      "训练集预测准确率 0.9389671361502347\n",
      "测试预测准确率 0.9300699300699301\n"
     ]
    }
   ],
   "source": [
    "out = net(Variable(torch.from_numpy(X_train)).float())\n",
    "prediction = torch.max(out, 1)[1] # 1返回index  0返回原值\n",
    "pred_y = prediction.data.numpy()\n",
    "target_y = y_train\n",
    "accuracy = float((pred_y == target_y).astype(int).sum()) / float(target_y.size)\n",
    "print(\"训练集预测准确率\",accuracy)\n",
    "out = net(Variable(torch.from_numpy(X_test)).float())\n",
    "prediction = torch.max(out, 1)[1] # 1返回index  0返回原值\n",
    "pred_y = prediction.data.numpy()\n",
    "target_y = y_test\n",
    "accuracy = float((pred_y == target_y).astype(int).sum()) / float(target_y.size)\n",
    "print(\"测试预测准确率\",accuracy)"
   ]
  },
  {
   "cell_type": "code",
   "execution_count": 241,
   "metadata": {
    "collapsed": true
   },
   "outputs": [],
   "source": [
    "# 标准化之后\n",
    "std_x = StandardScaler()\n",
    "data = std_x.fit_transform(breast_cancer.data)\n",
    "X_train,X_test,y_train,y_test = train_test_split(data,breast_cancer.target,test_size=0.25,random_state=0)"
   ]
  },
  {
   "cell_type": "code",
   "execution_count": 242,
   "metadata": {
    "collapsed": true
   },
   "outputs": [],
   "source": [
    "# 使用 Sequential 定义 3 层神经网络\n",
    "net = nn.Sequential(\n",
    "    nn.Linear(30, 100),\n",
    "    nn.ReLU(),\n",
    "    nn.Linear(100, 2)\n",
    ")\n",
    "# 定义 loss 函数---交叉熵\n",
    "criterion = nn.CrossEntropyLoss()\n",
    "optimizer = torch.optim.SGD(net.parameters(), 1e-3) # 使用随机梯度下降，学习率 0.001"
   ]
  },
  {
   "cell_type": "code",
   "execution_count": 243,
   "metadata": {},
   "outputs": [
    {
     "name": "stdout",
     "output_type": "stream",
     "text": [
      "epoch: 2, loss: 0.585678219795227\n",
      "epoch: 1000, loss: 0.24396876990795135\n",
      "epoch: 2000, loss: 0.16932208836078644\n",
      "epoch: 3000, loss: 0.13616260886192322\n",
      "epoch: 4000, loss: 0.11712930351495743\n",
      "epoch: 5000, loss: 0.10467319935560226\n",
      "epoch: 6000, loss: 0.09580877423286438\n",
      "epoch: 7000, loss: 0.08913218230009079\n",
      "epoch: 8000, loss: 0.08390714973211288\n",
      "epoch: 9000, loss: 0.07968954741954803\n",
      "epoch: 10000, loss: 0.07618918269872665\n"
     ]
    }
   ],
   "source": [
    "for e in range(10000):\n",
    "    out = net(Variable(torch.from_numpy(X_train)).float())\n",
    "    loss = criterion(out, Variable(torch.from_numpy(y_train)).long())\n",
    "    optimizer.zero_grad()\n",
    "    loss.backward()\n",
    "    optimizer.step()\n",
    "    if ((e + 1) % 1000 == 0) or e == 1:\n",
    "        print('epoch: {}, loss: {}'.format(e+1, loss))"
   ]
  },
  {
   "cell_type": "code",
   "execution_count": 244,
   "metadata": {},
   "outputs": [
    {
     "name": "stdout",
     "output_type": "stream",
     "text": [
      "训练集预测准确率 0.9835680751173709\n",
      "测试预测准确率 0.965034965034965\n"
     ]
    }
   ],
   "source": [
    "out = net(Variable(torch.from_numpy(X_train)).float())\n",
    "prediction = torch.max(out, 1)[1] # 1返回index  0返回原值\n",
    "pred_y = prediction.data.numpy()\n",
    "target_y = y_train\n",
    "accuracy = float((pred_y == target_y).astype(int).sum()) / float(target_y.size)\n",
    "print(\"训练集预测准确率\",accuracy)\n",
    "out = net(Variable(torch.from_numpy(X_test)).float())\n",
    "prediction = torch.max(out, 1)[1] # 1返回index  0返回原值\n",
    "pred_y = prediction.data.numpy()\n",
    "target_y = y_test\n",
    "accuracy = float((pred_y == target_y).astype(int).sum()) / float(target_y.size)\n",
    "print(\"测试预测准确率\",accuracy)"
   ]
  },
  {
   "cell_type": "code",
   "execution_count": null,
   "metadata": {
    "collapsed": true
   },
   "outputs": [],
   "source": []
  }
 ],
 "metadata": {
  "kernelspec": {
   "display_name": "Python 3",
   "language": "python",
   "name": "python3"
  },
  "language_info": {
   "codemirror_mode": {
    "name": "ipython",
    "version": 3
   },
   "file_extension": ".py",
   "mimetype": "text/x-python",
   "name": "python",
   "nbconvert_exporter": "python",
   "pygments_lexer": "ipython3",
   "version": "3.6.3"
  }
 },
 "nbformat": 4,
 "nbformat_minor": 2
}
