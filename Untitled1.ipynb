{
 "cells": [
  {
   "cell_type": "code",
   "execution_count": 1,
   "metadata": {
    "collapsed": true
   },
   "outputs": [],
   "source": [
    "from sklearn import datasets"
   ]
  },
  {
   "cell_type": "code",
   "execution_count": 6,
   "metadata": {},
   "outputs": [
    {
     "name": "stdout",
     "output_type": "stream",
     "text": [
      "dict_keys(['data', 'feature_names', 'target', 'target_names', 'DESCR'])\n",
      "(20, 3)\n",
      "(20, 3)\n",
      "[   5.  162.   60.]\n",
      "[ 191.   36.   50.]\n",
      "Linnerrud dataset\n",
      "=================\n",
      "\n",
      "Notes\n",
      "-----\n",
      "Data Set Characteristics:\n",
      "    :Number of Instances: 20\n",
      "    :Number of Attributes: 3\n",
      "    :Missing Attribute Values: None\n",
      "\n",
      "The Linnerud dataset constains two small dataset:\n",
      "\n",
      "- *exercise*: A list containing the following components: exercise data with\n",
      "  20 observations on 3 exercise variables: Weight, Waist and Pulse.\n",
      "\n",
      "- *physiological*: Data frame with 20 observations on 3 physiological variables:\n",
      "   Chins, Situps and Jumps.\n",
      "\n",
      "References\n",
      "----------\n",
      "  * Tenenhaus, M. (1998). La regression PLS: theorie et pratique. Paris: Editions Technic.\n",
      "\n"
     ]
    }
   ],
   "source": [
    "load_linnerud = datasets.load_linnerud()\n",
    "print(load_linnerud.keys())\n",
    "print(load_linnerud.data.shape)\n",
    "print(load_linnerud.target.shape)\n",
    "print(load_linnerud.data[0])\n",
    "print(load_linnerud.target[0])\n",
    "print(load_linnerud.DESCR)"
   ]
  },
  {
   "cell_type": "code",
   "execution_count": null,
   "metadata": {
    "collapsed": true
   },
   "outputs": [],
   "source": []
  },
  {
   "cell_type": "code",
   "execution_count": null,
   "metadata": {
    "collapsed": true
   },
   "outputs": [],
   "source": []
  }
 ],
 "metadata": {
  "kernelspec": {
   "display_name": "Python 3",
   "language": "python",
   "name": "python3"
  },
  "language_info": {
   "codemirror_mode": {
    "name": "ipython",
    "version": 3
   },
   "file_extension": ".py",
   "mimetype": "text/x-python",
   "name": "python",
   "nbconvert_exporter": "python",
   "pygments_lexer": "ipython3",
   "version": "3.6.3"
  }
 },
 "nbformat": 4,
 "nbformat_minor": 2
}
