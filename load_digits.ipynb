{
 "cells": [
  {
   "cell_type": "code",
   "execution_count": 15,
   "metadata": {
    "collapsed": true
   },
   "outputs": [],
   "source": [
    "%matplotlib inline\n",
    "import matplotlib.pyplot as plt\n",
    "from sklearn import datasets,svm,metrics\n",
    "from sklearn.model_selection import train_test_split\n",
    "from sklearn.neighbors import KNeighborsClassifier\n",
    "from sklearn.preprocessing import StandardScaler\n",
    "import torch\n",
    "import numpy as np\n",
    "from torch import nn\n",
    "from torch.autograd import Variable\n",
    "import torch.nn.functional as F\n",
    "import matplotlib.pyplot as plt\n",
    "%matplotlib inline"
   ]
  },
  {
   "cell_type": "code",
   "execution_count": 16,
   "metadata": {},
   "outputs": [
    {
     "name": "stdout",
     "output_type": "stream",
     "text": [
      "dict_keys(['data', 'target', 'target_names', 'images', 'DESCR'])\n",
      "(1797, 64) (1797,)\n",
      "[[  0.   0.   0.  12.  13.   5.   0.   0.]\n",
      " [  0.   0.   0.  11.  16.   9.   0.   0.]\n",
      " [  0.   0.   3.  15.  16.   6.   0.   0.]\n",
      " [  0.   7.  15.  16.  16.   2.   0.   0.]\n",
      " [  0.   0.   1.  16.  16.   3.   0.   0.]\n",
      " [  0.   0.   1.  16.  16.   6.   0.   0.]\n",
      " [  0.   0.   1.  16.  16.   6.   0.   0.]\n",
      " [  0.   0.   0.  11.  16.  10.   0.   0.]]\n"
     ]
    },
    {
     "data": {
      "image/png": "[encoded data removed]",
      "text/plain": [
       "<matplotlib.figure.Figure at 0x2843b000358>"
      ]
     },
     "metadata": {},
     "output_type": "display_data"
    }
   ],
   "source": [
    "digits = datasets.load_digits()\n",
    "print (digits.keys())\n",
    "print(digits.data.shape,digits.target.shape)\n",
    "plt.imshow(digits.images[1],cmap=plt.cm.gray_r)\n",
    "print (digits.images[1])"
   ]
  },
  {
   "cell_type": "markdown",
   "metadata": {},
   "source": [
    "### knn 模型"
   ]
  },
  {
   "cell_type": "code",
   "execution_count": 17,
   "metadata": {},
   "outputs": [
    {
     "name": "stdout",
     "output_type": "stream",
     "text": [
      "KNeighborsClassifier(algorithm='auto', leaf_size=30, metric='minkowski',\n",
      "           metric_params=None, n_jobs=1, n_neighbors=3, p=2,\n",
      "           weights='uniform')\n",
      "训练集精度： 0.992576095026\n",
      "测试集精度： 0.984444444444\n"
     ]
    }
   ],
   "source": [
    "# 构造knn模型---不进行数据预处理\n",
    "knn = KNeighborsClassifier(n_neighbors=3)\n",
    "print(knn)\n",
    "x_train,x_test,y_train,y_test = train_test_split(digits.data,digits.target,test_size=0.25)\n",
    "knn.fit(x_train,y_train)\n",
    "print(\"训练集精度：\",knn.score(x_train,y_train))\n",
    "print(\"测试集精度：\",knn.score(x_test,y_test))"
   ]
  },
  {
   "cell_type": "markdown",
   "metadata": {},
   "source": [
    "### pytorch神经网络"
   ]
  },
  {
   "cell_type": "code",
   "execution_count": 18,
   "metadata": {
    "collapsed": true
   },
   "outputs": [],
   "source": [
    "import torch\n",
    "import numpy as np\n",
    "from torch import nn\n",
    "from torch.autograd import Variable\n",
    "import torch.nn.functional as F\n",
    "import matplotlib.pyplot as plt\n",
    "%matplotlib inline"
   ]
  },
  {
   "cell_type": "code",
   "execution_count": 19,
   "metadata": {
    "collapsed": true
   },
   "outputs": [],
   "source": [
    "# 使用 Sequential 定义 4 层神经网络\n",
    "net = nn.Sequential(\n",
    "    nn.Linear(64, 400),\n",
    "    nn.ReLU(),\n",
    "    nn.Linear(400, 200),\n",
    "    nn.ReLU(),\n",
    "    nn.Linear(200, 100),\n",
    "    nn.ReLU(),\n",
    "    nn.Linear(100, 10)\n",
    ")\n",
    "# 定义 loss 函数---交叉熵\n",
    "criterion = nn.CrossEntropyLoss()\n",
    "optimizer = torch.optim.SGD(net.parameters(), 1e-1) # 使用随机梯度下降，学习率 0.1"
   ]
  },
  {
   "cell_type": "code",
   "execution_count": 21,
   "metadata": {},
   "outputs": [
    {
     "name": "stdout",
     "output_type": "stream",
     "text": [
      "epoch: 2, loss: 0.004933908581733704\n",
      "epoch: 1000, loss: 0.0005912493797950447\n"
     ]
    }
   ],
   "source": [
    "# 我们训练 5000 次\n",
    "for e in range(1000):\n",
    "    out = net(Variable(torch.from_numpy(x_train)).float())\n",
    "    loss = criterion(out, Variable(torch.from_numpy(y_train)).long())\n",
    "    optimizer.zero_grad()\n",
    "    loss.backward()\n",
    "    optimizer.step()\n",
    "    if ((e + 1) % 1000 == 0) or e == 1:\n",
    "        print('epoch: {}, loss: {}'.format(e+1, loss))"
   ]
  },
  {
   "cell_type": "code",
   "execution_count": 22,
   "metadata": {},
   "outputs": [
    {
     "name": "stdout",
     "output_type": "stream",
     "text": [
      "torch.Size([1347, 10])\n",
      "k = 1347\n",
      "训练集正确率为： 1.0\n"
     ]
    }
   ],
   "source": [
    "out = net(Variable(torch.from_numpy(x_train)).float())\n",
    "print(out.shape)\n",
    "# pred = out[0].index(max(out[0]))\n",
    "a = 0\n",
    "k = 0\n",
    "for i in out:\n",
    "#     print((\"%d\"%(y_train[a]-list(i.detach().numpy()).index(max(i)))))\n",
    "    \n",
    "    if (y_train[a]-list(i.detach().numpy()).index(max(i))) == 0:\n",
    "        k += 1\n",
    "    a += 1\n",
    "print(\"k = %d\"% k)\n",
    "print(\"训练集正确率为：\",k/1347)\n",
    "# print((\"目标值：%d,预测值：%d\"%(y_train[1],list(out[1].detach().numpy()).index(max(out[1])))))\n",
    "# print(list(out[0].detach().numpy()).index(max(out[0])))"
   ]
  },
  {
   "cell_type": "code",
   "execution_count": 23,
   "metadata": {},
   "outputs": [
    {
     "name": "stdout",
     "output_type": "stream",
     "text": [
      "torch.Size([450, 10])\n",
      "tensor([ -0.7805,   6.2726,  13.7328,  -5.9961,  -7.6731,   0.0932,   4.7489,\n",
      "        -11.4501,   4.1438,  -7.8431], grad_fn=<SelectBackward>)\n",
      "2\n",
      "k = 439\n",
      "测试集正确率为： 0.9755555555555555\n"
     ]
    }
   ],
   "source": [
    "out_c =  net(Variable(torch.from_numpy(x_test)).float())\n",
    "print(out_c.shape)\n",
    "k = 0\n",
    "print(out_c[0])\n",
    "print(y_test[0])\n",
    "a = 0\n",
    "for j in out_c:\n",
    "    if (y_test[a]-list(j.detach().numpy()).index(max(j))) == 0:\n",
    "        k += 1\n",
    "    a += 1\n",
    "print(\"k = %d\"% k)\n",
    "print(\"测试集正确率为：\",k/450)"
   ]
  },
  {
   "cell_type": "markdown",
   "metadata": {
    "collapsed": true
   },
   "source": [
    "### sklearn中的神经网络框架"
   ]
  },
  {
   "cell_type": "code",
   "execution_count": 24,
   "metadata": {},
   "outputs": [
    {
     "name": "stderr",
     "output_type": "stream",
     "text": [
      "D:\\anaconda\\lib\\site-packages\\sklearn\\neural_network\\multilayer_perceptron.py:564: ConvergenceWarning: Stochastic Optimizer: Maximum iterations (200) reached and the optimization hasn't converged yet.\n",
      "  % self.max_iter, ConvergenceWarning)\n"
     ]
    },
    {
     "data": {
      "text/plain": [
       "MLPClassifier(activation='relu', alpha=0.0001, batch_size='auto', beta_1=0.9,\n",
       "       beta_2=0.999, early_stopping=False, epsilon=1e-08,\n",
       "       hidden_layer_sizes=(50, 40), learning_rate='constant',\n",
       "       learning_rate_init=0.001, max_iter=200, momentum=0.9,\n",
       "       nesterovs_momentum=True, power_t=0.5, random_state=None,\n",
       "       shuffle=True, solver='sgd', tol=0.0001, validation_fraction=0.1,\n",
       "       verbose=False, warm_start=False)"
      ]
     },
     "execution_count": 24,
     "metadata": {},
     "output_type": "execute_result"
    }
   ],
   "source": [
    "# 调库\n",
    "from sklearn.neural_network import MLPClassifier\n",
    "# 实例化一个人工神经网络\n",
    "net = MLPClassifier(solver=\"sgd\",hidden_layer_sizes=(50,40))\n",
    "net.fit(x_train,y_train)"
   ]
  },
  {
   "cell_type": "code",
   "execution_count": 25,
   "metadata": {},
   "outputs": [
    {
     "name": "stdout",
     "output_type": "stream",
     "text": [
      "训练集精度； 0.998515219005\n",
      "测试集精度； 0.964444444444\n"
     ]
    }
   ],
   "source": [
    "print(\"训练集精度；\",net.score(x_train,y_train))\n",
    "print(\"测试集精度；\",net.score(x_test,y_test))"
   ]
  },
  {
   "cell_type": "markdown",
   "metadata": {
    "collapsed": true
   },
   "source": [
    "### SVM"
   ]
  },
  {
   "cell_type": "code",
   "execution_count": 32,
   "metadata": {},
   "outputs": [
    {
     "name": "stdout",
     "output_type": "stream",
     "text": [
      "训练集精度； 1.0\n",
      "测试集精度； 0.990740740741\n",
      "SVC(C=100, cache_size=200, class_weight=None, coef0=0.0,\n",
      "  decision_function_shape='ovr', degree=3, gamma=0.001, kernel='rbf',\n",
      "  max_iter=-1, probability=False, random_state=42, shrinking=True,\n",
      "  tol=0.001, verbose=False)\n"
     ]
    }
   ],
   "source": [
    "from sklearn import svm\n",
    "x_train,x_test,y_train,y_test = train_test_split(digits.data,digits.target,test_size=0.3,random_state=0)\n",
    "svm_classifier = svm.SVC(C=100, kernel='rbf', decision_function_shape='ovr', gamma=0.001,random_state=42)\n",
    "svm_classifier.fit(x_train,y_train)\n",
    "print(\"训练集精度；\",svm_classifier.score(x_train,y_train))\n",
    "print(\"测试集精度；\",svm_classifier.score(x_test,y_test))\n",
    "print(svm_classifier)"
   ]
  },
  {
   "cell_type": "code",
   "execution_count": null,
   "metadata": {
    "collapsed": true
   },
   "outputs": [],
   "source": []
  }
 ],
 "metadata": {
  "kernelspec": {
   "display_name": "Python 3",
   "language": "python",
   "name": "python3"
  },
  "language_info": {
   "codemirror_mode": {
    "name": "ipython",
    "version": 3
   },
   "file_extension": ".py",
   "mimetype": "text/x-python",
   "name": "python",
   "nbconvert_exporter": "python",
   "pygments_lexer": "ipython3",
   "version": "3.6.3"
  }
 },
 "nbformat": 4,
 "nbformat_minor": 2
}
