{
 "cells": [
  {
   "cell_type": "code",
   "execution_count": 2,
   "metadata": {},
   "outputs": [
    {
     "name": "stdout",
     "output_type": "stream",
     "text": [
      "['yes' 'no']\n"
     ]
    }
   ],
   "source": [
    "# -*- coding: utf-8 -*-\n",
    "# {{{\n",
    "from io import StringIO\n",
    "import pandas\n",
    "import pydotplus\n",
    "from sklearn import tree\n",
    "from sklearn.preprocessing import LabelEncoder\n",
    "from sklearn.tree import DecisionTreeClassifier\n",
    "\n",
    "\n",
    "def createDataSet():\n",
    "    \"\"\"\n",
    "    创建数据集\n",
    "\n",
    "    :return: 数据集与特征集\n",
    "    \"\"\"\n",
    "    dataSet = [['hot', 'sunny', 'high', 'false', 'no'],\n",
    "               ['hot', 'sunny', 'high', 'true', 'no'],\n",
    "               ['hot', 'overcast', 'high', 'false', 'yes'],\n",
    "               ['cool', 'rain', 'normal', 'false', 'yes'],\n",
    "               ['cool', 'overcast', 'normal', 'true', 'yes'],\n",
    "               ['mild', 'sunny', 'high', 'false', 'no'],\n",
    "               ['cool', 'sunny', 'normal', 'false', 'yes'],\n",
    "               ['mild', 'rain', 'normal', 'false', 'yes'],\n",
    "               ['mild', 'sunny', 'normal', 'true', 'yes'],\n",
    "               ['mild', 'overcast', 'high', 'true', 'yes'],\n",
    "               ['hot', 'overcast', 'normal', 'false', 'yes'],\n",
    "               ['mild', 'sunny', 'high', 'true', 'no'],\n",
    "               ['cool', 'sunny', 'normal', 'true', 'no'],\n",
    "               ['mild', 'sunny', 'high', 'false', 'yes']]\n",
    "    labels = ['climate', 'weather', 'temple', 'cold']\n",
    "    return dataSet, labels\n",
    "\n",
    "\n",
    "if __name__ == '__main__':\n",
    "    dataSet, labels = createDataSet()\n",
    "    yDataList = []  # 提取每组数据的类别，保存在列表里\n",
    "    for each in dataSet:\n",
    "        yDataList.append(each[-1])\n",
    "\n",
    "    dataDict = {}\n",
    "    for each_label in labels:\n",
    "        tempList = list()\n",
    "        for each in dataSet:\n",
    "            tempList.append(each[labels.index(each_label)])\n",
    "        dataDict[each_label] = tempList\n",
    "\n",
    "    dataPD = pandas.DataFrame(dataDict)\n",
    "\n",
    "    leDict = dict()\n",
    "    for col in dataPD.columns:\n",
    "        leDict[col] = LabelEncoder()\n",
    "        dataPD[col] = leDict[col].fit_transform(dataPD[col])\n",
    "\n",
    "    dt = DecisionTreeClassifier()\n",
    "    dt.fit(dataPD.values.tolist(), yDataList)\n",
    "\n",
    "    dot_data = StringIO()\n",
    "    tree.export_graphviz(dt, out_file=dot_data,  # 绘制决策树\n",
    "                         feature_names=dataPD.keys(),\n",
    "                         class_names=dt.classes_,\n",
    "                         filled=True, rounded=True,\n",
    "                         special_characters=True)\n",
    "    graph = pydotplus.graph_from_dot_data(dot_data.getvalue())\n",
    "    graph.progs = {'dot': u\"d:\\\\Graphviz\\\\bin\\\\dot.exe\"}\n",
    "    graph.write_pdf(\"tree.pdf\")\n",
    "\n",
    "    xTest = [['hot', 'overcast', 'high', 'false'], ['mild', 'sunny', 'high', 'true']]\n",
    "    testDict = {}\n",
    "    for each_label in labels:\n",
    "        tempList = list()\n",
    "        for each in xTest:\n",
    "            tempList.append(each[labels.index(each_label)])\n",
    "        testDict[each_label] = tempList\n",
    "    testPD = pandas.DataFrame(testDict)  # 生成pandas.DataFrame\n",
    "    for col in testPD.columns:  # 为每一列序列化\n",
    "        testPD[col] = leDict[col].transform(testPD[col])\n",
    "\n",
    "    result = dt.predict(testPD.values.tolist())\n",
    "    print(result)"
   ]
  },
  {
   "cell_type": "code",
   "execution_count": 3,
   "metadata": {},
   "outputs": [
    {
     "data": {
      "text/plain": [
       "True"
      ]
     },
     "execution_count": 3,
     "metadata": {},
     "output_type": "execute_result"
    }
   ],
   "source": [
    "dot_data = StringIO()\n",
    "tree.export_graphviz(dt, out_file=dot_data,  # 绘制决策树\n",
    "    feature_names=dataPD.keys(),\n",
    "    class_names=dt.classes_,\n",
    "    filled=True, rounded=True,\n",
    "    special_characters=True)\n",
    "graph = pydotplus.graph_from_dot_data(dot_data.getvalue())\n",
    "graph.write_pdf(\"tree.pdf\")"
   ]
  },
  {
   "cell_type": "code",
   "execution_count": 5,
   "metadata": {},
   "outputs": [
    {
     "name": "stdout",
     "output_type": "stream",
     "text": [
      "Index(['climate', 'cold', 'temple', 'weather'], dtype='object')\n"
     ]
    },
    {
     "data": {
      "text/plain": [
       "array(['no', 'yes'],\n",
       "      dtype='<U3')"
      ]
     },
     "execution_count": 5,
     "metadata": {},
     "output_type": "execute_result"
    }
   ],
   "source": [
    "print(dataPD.keys())\n",
    "dt.classes_"
   ]
  },
  {
   "cell_type": "code",
   "execution_count": 15,
   "metadata": {},
   "outputs": [
    {
     "name": "stdout",
     "output_type": "stream",
     "text": [
      "Training score:0.964286\n",
      "Testing score:0.947368\n",
      "Visible tree plot saved as pdf.\n"
     ]
    }
   ],
   "source": [
    "# -*- coding: utf-8 -*-\n",
    "\"\"\"\n",
    "Created on Fri Nov 23 21:26:09 2018\n",
    "\n",
    "@author: muli\n",
    "\"\"\"\n",
    "\n",
    "from sklearn.tree import DecisionTreeClassifier\n",
    "from sklearn import  datasets\n",
    "from sklearn import cross_validation\n",
    "\n",
    "# 可视化需要的包\n",
    "from sklearn.tree import export_graphviz\n",
    "from sklearn.externals.six import StringIO\n",
    "import pydotplus\n",
    "\n",
    "\n",
    "def load_data():\n",
    "    '''\n",
    "    加载用于分类问题的数据集。数据集采用 scikit-learn 自带的 iris 数据集\n",
    "\n",
    "    :return: 一个元组，用于分类问题。\n",
    "    元组元素依次为：训练样本集、测试样本集、训练样本集对应的标记、测试样本集对应的标记\n",
    "    '''\n",
    "    # scikit-learn 自带的 iris 数据集\n",
    "    iris=datasets.load_iris() \n",
    "    X_train=iris.data\n",
    "    y_train=iris.target\n",
    "    # 分层采样拆分成训练集和测试集，测试集大小为原始数据集大小的 1/4\n",
    "    return cross_validation.train_test_split(X_train, y_train,test_size=0.25,\n",
    "\t\trandom_state=0,stratify=y_train)\n",
    "    \n",
    "\n",
    "def test_DecisionTreeClassifier(*data):\n",
    "    '''\n",
    "    测试 DecisionTreeClassifier 的用法\n",
    "\n",
    "    :param data: 可变参数。\n",
    "    它是一个元组，这里要求其元素依次为：训练样本集、测试样本集、训练样本的标记、测试样本的标记\n",
    "    :return:  None\n",
    "    '''\n",
    "    X_train,X_test,y_train,y_test=data\n",
    "    # 通过前面的测试，选择最优参数\n",
    "    clf = DecisionTreeClassifier(criterion='gini',splitter='best',\n",
    "                                 max_depth=3)\n",
    "    clf.fit(X_train, y_train)\n",
    "\n",
    "    print(\"Training score:%f\"%(clf.score(X_train,y_train)))\n",
    "    print(\"Testing score:%f\"%(clf.score(X_test,y_test)))\n",
    "\n",
    "#     feature_name = ['sepal','sepal_width','petal','petal_width'] \n",
    "#     target_name = ['setosa','versicolor','virginica']\n",
    "    feature_name = iris.feature_names\n",
    "    target_name = iris.target_names\n",
    "\n",
    "  \n",
    "    dot_data = StringIO() \n",
    "    export_graphviz(clf,out_file = dot_data,feature_names=feature_name, \n",
    "                         class_names=target_name,filled=True,rounded=True, \n",
    "                         special_characters=True)\n",
    "   \n",
    "    graph = pydotplus.graph_from_dot_data(dot_data.getvalue())\n",
    "    graph.write_pdf(\"DecisionTree1.pdf\")\n",
    "    print('Visible tree plot saved as pdf.')\n",
    "    \n",
    "if __name__=='__main__':\n",
    "    # 产生用于分类问题的数据集\n",
    "    X_train,X_test,y_train,y_test=load_data() \n",
    "    # 调用 test_DecisionTreeClassifier\n",
    "    test_DecisionTreeClassifier(X_train,X_test,y_train,y_test)"
   ]
  },
  {
   "cell_type": "code",
   "execution_count": null,
   "metadata": {
    "collapsed": true
   },
   "outputs": [],
   "source": []
  }
 ],
 "metadata": {
  "kernelspec": {
   "display_name": "Python 3",
   "language": "python",
   "name": "python3"
  },
  "language_info": {
   "codemirror_mode": {
    "name": "ipython",
    "version": 3
   },
   "file_extension": ".py",
   "mimetype": "text/x-python",
   "name": "python",
   "nbconvert_exporter": "python",
   "pygments_lexer": "ipython3",
   "version": "3.6.3"
  }
 },
 "nbformat": 4,
 "nbformat_minor": 2
}
